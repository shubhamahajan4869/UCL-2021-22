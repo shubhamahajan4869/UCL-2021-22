{
 "cells": [
  {
   "cell_type": "code",
   "execution_count": 41,
   "id": "739ba50c",
   "metadata": {},
   "outputs": [],
   "source": [
    "import pandas as pd\n",
    "import numpy as np\n",
    "import plotly.express as px\n",
    "import seaborn as sns\n",
    "import matplotlib.pyplot as plt\n",
    "import matplotlib.dates as mdates"
   ]
  },
  {
   "cell_type": "code",
   "execution_count": 42,
   "id": "c8fd67f6",
   "metadata": {},
   "outputs": [],
   "source": [
    "df_goals = pd.read_csv(\"Datasets\\\\UCL 2021-22\\\\goals.csv\")"
   ]
  },
  {
   "cell_type": "code",
   "execution_count": 32,
   "id": "9bce6581",
   "metadata": {},
   "outputs": [
    {
     "data": {
      "text/html": [
       "<div>\n",
       "<style scoped>\n",
       "    .dataframe tbody tr th:only-of-type {\n",
       "        vertical-align: middle;\n",
       "    }\n",
       "\n",
       "    .dataframe tbody tr th {\n",
       "        vertical-align: top;\n",
       "    }\n",
       "\n",
       "    .dataframe thead th {\n",
       "        text-align: right;\n",
       "    }\n",
       "</style>\n",
       "<table border=\"1\" class=\"dataframe\">\n",
       "  <thead>\n",
       "    <tr style=\"text-align: right;\">\n",
       "      <th></th>\n",
       "      <th>serial</th>\n",
       "      <th>player_name</th>\n",
       "      <th>club</th>\n",
       "      <th>position</th>\n",
       "      <th>goals</th>\n",
       "      <th>right_foot</th>\n",
       "      <th>left_foot</th>\n",
       "      <th>headers</th>\n",
       "      <th>others</th>\n",
       "      <th>inside_area</th>\n",
       "      <th>outside_areas</th>\n",
       "      <th>penalties</th>\n",
       "      <th>match_played</th>\n",
       "    </tr>\n",
       "  </thead>\n",
       "  <tbody>\n",
       "    <tr>\n",
       "      <th>0</th>\n",
       "      <td>1</td>\n",
       "      <td>Benzema</td>\n",
       "      <td>Real Madrid</td>\n",
       "      <td>Forward</td>\n",
       "      <td>15</td>\n",
       "      <td>11</td>\n",
       "      <td>1</td>\n",
       "      <td>3</td>\n",
       "      <td>0</td>\n",
       "      <td>13</td>\n",
       "      <td>2</td>\n",
       "      <td>3</td>\n",
       "      <td>12</td>\n",
       "    </tr>\n",
       "    <tr>\n",
       "      <th>1</th>\n",
       "      <td>2</td>\n",
       "      <td>Lewandowski</td>\n",
       "      <td>Bayern</td>\n",
       "      <td>Forward</td>\n",
       "      <td>13</td>\n",
       "      <td>8</td>\n",
       "      <td>3</td>\n",
       "      <td>1</td>\n",
       "      <td>1</td>\n",
       "      <td>13</td>\n",
       "      <td>0</td>\n",
       "      <td>3</td>\n",
       "      <td>10</td>\n",
       "    </tr>\n",
       "    <tr>\n",
       "      <th>2</th>\n",
       "      <td>3</td>\n",
       "      <td>Haller</td>\n",
       "      <td>Ajax</td>\n",
       "      <td>Forward</td>\n",
       "      <td>11</td>\n",
       "      <td>3</td>\n",
       "      <td>4</td>\n",
       "      <td>3</td>\n",
       "      <td>1</td>\n",
       "      <td>11</td>\n",
       "      <td>0</td>\n",
       "      <td>1</td>\n",
       "      <td>8</td>\n",
       "    </tr>\n",
       "    <tr>\n",
       "      <th>3</th>\n",
       "      <td>4</td>\n",
       "      <td>Salah</td>\n",
       "      <td>Liverpool</td>\n",
       "      <td>Forward</td>\n",
       "      <td>8</td>\n",
       "      <td>0</td>\n",
       "      <td>8</td>\n",
       "      <td>0</td>\n",
       "      <td>0</td>\n",
       "      <td>7</td>\n",
       "      <td>1</td>\n",
       "      <td>1</td>\n",
       "      <td>13</td>\n",
       "    </tr>\n",
       "    <tr>\n",
       "      <th>4</th>\n",
       "      <td>5</td>\n",
       "      <td>Nkunku</td>\n",
       "      <td>Leipzig</td>\n",
       "      <td>Midfielder</td>\n",
       "      <td>7</td>\n",
       "      <td>3</td>\n",
       "      <td>1</td>\n",
       "      <td>3</td>\n",
       "      <td>0</td>\n",
       "      <td>7</td>\n",
       "      <td>0</td>\n",
       "      <td>0</td>\n",
       "      <td>6</td>\n",
       "    </tr>\n",
       "  </tbody>\n",
       "</table>\n",
       "</div>"
      ],
      "text/plain": [
       "   serial  player_name         club    position  goals  right_foot  left_foot  \\\n",
       "0       1      Benzema  Real Madrid     Forward     15          11          1   \n",
       "1       2  Lewandowski       Bayern     Forward     13           8          3   \n",
       "2       3       Haller         Ajax     Forward     11           3          4   \n",
       "3       4        Salah    Liverpool     Forward      8           0          8   \n",
       "4       5       Nkunku      Leipzig  Midfielder      7           3          1   \n",
       "\n",
       "   headers  others  inside_area  outside_areas  penalties  match_played  \n",
       "0        3       0           13              2          3            12  \n",
       "1        1       1           13              0          3            10  \n",
       "2        3       1           11              0          1             8  \n",
       "3        0       0            7              1          1            13  \n",
       "4        3       0            7              0          0             6  "
      ]
     },
     "execution_count": 32,
     "metadata": {},
     "output_type": "execute_result"
    }
   ],
   "source": [
    "df_goals.head()"
   ]
  },
  {
   "cell_type": "code",
   "execution_count": 33,
   "id": "dc13008e",
   "metadata": {},
   "outputs": [
    {
     "data": {
      "text/plain": [
       "False"
      ]
     },
     "execution_count": 33,
     "metadata": {},
     "output_type": "execute_result"
    }
   ],
   "source": [
    "df_goals.isna().values.any()"
   ]
  },
  {
   "cell_type": "code",
   "execution_count": 34,
   "id": "e0d75ff1",
   "metadata": {},
   "outputs": [
    {
     "data": {
      "text/plain": [
       "False"
      ]
     },
     "execution_count": 34,
     "metadata": {},
     "output_type": "execute_result"
    }
   ],
   "source": [
    "df_goals.duplicated().values.any()"
   ]
  },
  {
   "cell_type": "code",
   "execution_count": 35,
   "id": "08007328",
   "metadata": {},
   "outputs": [
    {
     "data": {
      "text/html": [
       "<div>\n",
       "<style scoped>\n",
       "    .dataframe tbody tr th:only-of-type {\n",
       "        vertical-align: middle;\n",
       "    }\n",
       "\n",
       "    .dataframe tbody tr th {\n",
       "        vertical-align: top;\n",
       "    }\n",
       "\n",
       "    .dataframe thead th {\n",
       "        text-align: right;\n",
       "    }\n",
       "</style>\n",
       "<table border=\"1\" class=\"dataframe\">\n",
       "  <thead>\n",
       "    <tr style=\"text-align: right;\">\n",
       "      <th></th>\n",
       "      <th>player_name</th>\n",
       "      <th>goals</th>\n",
       "    </tr>\n",
       "  </thead>\n",
       "  <tbody>\n",
       "    <tr>\n",
       "      <th>15</th>\n",
       "      <td>Benzema</td>\n",
       "      <td>15</td>\n",
       "    </tr>\n",
       "    <tr>\n",
       "      <th>90</th>\n",
       "      <td>Lewandowski</td>\n",
       "      <td>13</td>\n",
       "    </tr>\n",
       "    <tr>\n",
       "      <th>66</th>\n",
       "      <td>Haller</td>\n",
       "      <td>11</td>\n",
       "    </tr>\n",
       "    <tr>\n",
       "      <th>150</th>\n",
       "      <td>Salah</td>\n",
       "      <td>8</td>\n",
       "    </tr>\n",
       "    <tr>\n",
       "      <th>115</th>\n",
       "      <td>Nkunku</td>\n",
       "      <td>7</td>\n",
       "    </tr>\n",
       "  </tbody>\n",
       "</table>\n",
       "</div>"
      ],
      "text/plain": [
       "     player_name  goals\n",
       "15       Benzema     15\n",
       "90   Lewandowski     13\n",
       "66        Haller     11\n",
       "150        Salah      8\n",
       "115       Nkunku      7"
      ]
     },
     "execution_count": 35,
     "metadata": {},
     "output_type": "execute_result"
    }
   ],
   "source": [
    "top_goals = df_goals.groupby([\"player_name\"], as_index=False).agg({\"goals\":pd.Series.sum})\n",
    "top_goals = top_goals.sort_values(\"goals\", ascending=False)[:20]\n",
    "top_goals.head()"
   ]
  },
  {
   "cell_type": "code",
   "execution_count": 36,
   "id": "06d3447a",
   "metadata": {},
   "outputs": [
    {
     "data": {
      "application/vnd.plotly.v1+json": {
       "config": {
        "plotlyServerURL": "https://plot.ly"
       },
       "data": [
        {
         "alignmentgroup": "True",
         "hovertemplate": "<b>%{hovertext}</b><br><br>x=%{x}<br>y=%{y}<br>color=%{marker.color}<extra></extra>",
         "hovertext": [
          "Benzema",
          "Lewandowski",
          "Haller",
          "Salah",
          "Nkunku",
          "Mahrez",
          "Sané",
          "Ronaldo",
          "Danjuma",
          "Mbappé",
          "Núñez",
          "Mané",
          "Rodrygo",
          "Messi",
          "Firmino",
          "Vinícius Júnior",
          "Jesus",
          "Griezmann",
          "Pedro Gonçalves",
          "Luis Díaz"
         ],
         "legendgroup": "",
         "marker": {
          "color": [
           15,
           13,
           11,
           8,
           7,
           7,
           6,
           6,
           6,
           6,
           6,
           5,
           5,
           5,
           5,
           4,
           4,
           4,
           4,
           4
          ],
          "coloraxis": "coloraxis",
          "pattern": {
           "shape": ""
          }
         },
         "name": "",
         "offsetgroup": "",
         "orientation": "v",
         "showlegend": false,
         "textposition": "auto",
         "type": "bar",
         "x": [
          "Benzema",
          "Lewandowski",
          "Haller",
          "Salah",
          "Nkunku",
          "Mahrez",
          "Sané",
          "Ronaldo",
          "Danjuma",
          "Mbappé",
          "Núñez",
          "Mané",
          "Rodrygo",
          "Messi",
          "Firmino",
          "Vinícius Júnior",
          "Jesus",
          "Griezmann",
          "Pedro Gonçalves",
          "Luis Díaz"
         ],
         "xaxis": "x",
         "y": [
          15,
          13,
          11,
          8,
          7,
          7,
          6,
          6,
          6,
          6,
          6,
          5,
          5,
          5,
          5,
          4,
          4,
          4,
          4,
          4
         ],
         "yaxis": "y"
        }
       ],
       "layout": {
        "barmode": "relative",
        "coloraxis": {
         "colorbar": {
          "title": {
           "text": "color"
          }
         },
         "colorscale": [
          [
           0,
           "rgb(75, 41, 145)"
          ],
          [
           0.16666666666666666,
           "rgb(135, 44, 162)"
          ],
          [
           0.3333333333333333,
           "rgb(192, 54, 157)"
          ],
          [
           0.5,
           "rgb(234, 79, 136)"
          ],
          [
           0.6666666666666666,
           "rgb(250, 120, 118)"
          ],
          [
           0.8333333333333334,
           "rgb(246, 169, 122)"
          ],
          [
           1,
           "rgb(237, 217, 163)"
          ]
         ],
         "showscale": false
        },
        "legend": {
         "tracegroupgap": 0
        },
        "template": {
         "data": {
          "bar": [
           {
            "error_x": {
             "color": "#2a3f5f"
            },
            "error_y": {
             "color": "#2a3f5f"
            },
            "marker": {
             "line": {
              "color": "#E5ECF6",
              "width": 0.5
             },
             "pattern": {
              "fillmode": "overlay",
              "size": 10,
              "solidity": 0.2
             }
            },
            "type": "bar"
           }
          ],
          "barpolar": [
           {
            "marker": {
             "line": {
              "color": "#E5ECF6",
              "width": 0.5
             },
             "pattern": {
              "fillmode": "overlay",
              "size": 10,
              "solidity": 0.2
             }
            },
            "type": "barpolar"
           }
          ],
          "carpet": [
           {
            "aaxis": {
             "endlinecolor": "#2a3f5f",
             "gridcolor": "white",
             "linecolor": "white",
             "minorgridcolor": "white",
             "startlinecolor": "#2a3f5f"
            },
            "baxis": {
             "endlinecolor": "#2a3f5f",
             "gridcolor": "white",
             "linecolor": "white",
             "minorgridcolor": "white",
             "startlinecolor": "#2a3f5f"
            },
            "type": "carpet"
           }
          ],
          "choropleth": [
           {
            "colorbar": {
             "outlinewidth": 0,
             "ticks": ""
            },
            "type": "choropleth"
           }
          ],
          "contour": [
           {
            "colorbar": {
             "outlinewidth": 0,
             "ticks": ""
            },
            "colorscale": [
             [
              0,
              "#0d0887"
             ],
             [
              0.1111111111111111,
              "#46039f"
             ],
             [
              0.2222222222222222,
              "#7201a8"
             ],
             [
              0.3333333333333333,
              "#9c179e"
             ],
             [
              0.4444444444444444,
              "#bd3786"
             ],
             [
              0.5555555555555556,
              "#d8576b"
             ],
             [
              0.6666666666666666,
              "#ed7953"
             ],
             [
              0.7777777777777778,
              "#fb9f3a"
             ],
             [
              0.8888888888888888,
              "#fdca26"
             ],
             [
              1,
              "#f0f921"
             ]
            ],
            "type": "contour"
           }
          ],
          "contourcarpet": [
           {
            "colorbar": {
             "outlinewidth": 0,
             "ticks": ""
            },
            "type": "contourcarpet"
           }
          ],
          "heatmap": [
           {
            "colorbar": {
             "outlinewidth": 0,
             "ticks": ""
            },
            "colorscale": [
             [
              0,
              "#0d0887"
             ],
             [
              0.1111111111111111,
              "#46039f"
             ],
             [
              0.2222222222222222,
              "#7201a8"
             ],
             [
              0.3333333333333333,
              "#9c179e"
             ],
             [
              0.4444444444444444,
              "#bd3786"
             ],
             [
              0.5555555555555556,
              "#d8576b"
             ],
             [
              0.6666666666666666,
              "#ed7953"
             ],
             [
              0.7777777777777778,
              "#fb9f3a"
             ],
             [
              0.8888888888888888,
              "#fdca26"
             ],
             [
              1,
              "#f0f921"
             ]
            ],
            "type": "heatmap"
           }
          ],
          "heatmapgl": [
           {
            "colorbar": {
             "outlinewidth": 0,
             "ticks": ""
            },
            "colorscale": [
             [
              0,
              "#0d0887"
             ],
             [
              0.1111111111111111,
              "#46039f"
             ],
             [
              0.2222222222222222,
              "#7201a8"
             ],
             [
              0.3333333333333333,
              "#9c179e"
             ],
             [
              0.4444444444444444,
              "#bd3786"
             ],
             [
              0.5555555555555556,
              "#d8576b"
             ],
             [
              0.6666666666666666,
              "#ed7953"
             ],
             [
              0.7777777777777778,
              "#fb9f3a"
             ],
             [
              0.8888888888888888,
              "#fdca26"
             ],
             [
              1,
              "#f0f921"
             ]
            ],
            "type": "heatmapgl"
           }
          ],
          "histogram": [
           {
            "marker": {
             "pattern": {
              "fillmode": "overlay",
              "size": 10,
              "solidity": 0.2
             }
            },
            "type": "histogram"
           }
          ],
          "histogram2d": [
           {
            "colorbar": {
             "outlinewidth": 0,
             "ticks": ""
            },
            "colorscale": [
             [
              0,
              "#0d0887"
             ],
             [
              0.1111111111111111,
              "#46039f"
             ],
             [
              0.2222222222222222,
              "#7201a8"
             ],
             [
              0.3333333333333333,
              "#9c179e"
             ],
             [
              0.4444444444444444,
              "#bd3786"
             ],
             [
              0.5555555555555556,
              "#d8576b"
             ],
             [
              0.6666666666666666,
              "#ed7953"
             ],
             [
              0.7777777777777778,
              "#fb9f3a"
             ],
             [
              0.8888888888888888,
              "#fdca26"
             ],
             [
              1,
              "#f0f921"
             ]
            ],
            "type": "histogram2d"
           }
          ],
          "histogram2dcontour": [
           {
            "colorbar": {
             "outlinewidth": 0,
             "ticks": ""
            },
            "colorscale": [
             [
              0,
              "#0d0887"
             ],
             [
              0.1111111111111111,
              "#46039f"
             ],
             [
              0.2222222222222222,
              "#7201a8"
             ],
             [
              0.3333333333333333,
              "#9c179e"
             ],
             [
              0.4444444444444444,
              "#bd3786"
             ],
             [
              0.5555555555555556,
              "#d8576b"
             ],
             [
              0.6666666666666666,
              "#ed7953"
             ],
             [
              0.7777777777777778,
              "#fb9f3a"
             ],
             [
              0.8888888888888888,
              "#fdca26"
             ],
             [
              1,
              "#f0f921"
             ]
            ],
            "type": "histogram2dcontour"
           }
          ],
          "mesh3d": [
           {
            "colorbar": {
             "outlinewidth": 0,
             "ticks": ""
            },
            "type": "mesh3d"
           }
          ],
          "parcoords": [
           {
            "line": {
             "colorbar": {
              "outlinewidth": 0,
              "ticks": ""
             }
            },
            "type": "parcoords"
           }
          ],
          "pie": [
           {
            "automargin": true,
            "type": "pie"
           }
          ],
          "scatter": [
           {
            "marker": {
             "colorbar": {
              "outlinewidth": 0,
              "ticks": ""
             }
            },
            "type": "scatter"
           }
          ],
          "scatter3d": [
           {
            "line": {
             "colorbar": {
              "outlinewidth": 0,
              "ticks": ""
             }
            },
            "marker": {
             "colorbar": {
              "outlinewidth": 0,
              "ticks": ""
             }
            },
            "type": "scatter3d"
           }
          ],
          "scattercarpet": [
           {
            "marker": {
             "colorbar": {
              "outlinewidth": 0,
              "ticks": ""
             }
            },
            "type": "scattercarpet"
           }
          ],
          "scattergeo": [
           {
            "marker": {
             "colorbar": {
              "outlinewidth": 0,
              "ticks": ""
             }
            },
            "type": "scattergeo"
           }
          ],
          "scattergl": [
           {
            "marker": {
             "colorbar": {
              "outlinewidth": 0,
              "ticks": ""
             }
            },
            "type": "scattergl"
           }
          ],
          "scattermapbox": [
           {
            "marker": {
             "colorbar": {
              "outlinewidth": 0,
              "ticks": ""
             }
            },
            "type": "scattermapbox"
           }
          ],
          "scatterpolar": [
           {
            "marker": {
             "colorbar": {
              "outlinewidth": 0,
              "ticks": ""
             }
            },
            "type": "scatterpolar"
           }
          ],
          "scatterpolargl": [
           {
            "marker": {
             "colorbar": {
              "outlinewidth": 0,
              "ticks": ""
             }
            },
            "type": "scatterpolargl"
           }
          ],
          "scatterternary": [
           {
            "marker": {
             "colorbar": {
              "outlinewidth": 0,
              "ticks": ""
             }
            },
            "type": "scatterternary"
           }
          ],
          "surface": [
           {
            "colorbar": {
             "outlinewidth": 0,
             "ticks": ""
            },
            "colorscale": [
             [
              0,
              "#0d0887"
             ],
             [
              0.1111111111111111,
              "#46039f"
             ],
             [
              0.2222222222222222,
              "#7201a8"
             ],
             [
              0.3333333333333333,
              "#9c179e"
             ],
             [
              0.4444444444444444,
              "#bd3786"
             ],
             [
              0.5555555555555556,
              "#d8576b"
             ],
             [
              0.6666666666666666,
              "#ed7953"
             ],
             [
              0.7777777777777778,
              "#fb9f3a"
             ],
             [
              0.8888888888888888,
              "#fdca26"
             ],
             [
              1,
              "#f0f921"
             ]
            ],
            "type": "surface"
           }
          ],
          "table": [
           {
            "cells": {
             "fill": {
              "color": "#EBF0F8"
             },
             "line": {
              "color": "white"
             }
            },
            "header": {
             "fill": {
              "color": "#C8D4E3"
             },
             "line": {
              "color": "white"
             }
            },
            "type": "table"
           }
          ]
         },
         "layout": {
          "annotationdefaults": {
           "arrowcolor": "#2a3f5f",
           "arrowhead": 0,
           "arrowwidth": 1
          },
          "autotypenumbers": "strict",
          "coloraxis": {
           "colorbar": {
            "outlinewidth": 0,
            "ticks": ""
           }
          },
          "colorscale": {
           "diverging": [
            [
             0,
             "#8e0152"
            ],
            [
             0.1,
             "#c51b7d"
            ],
            [
             0.2,
             "#de77ae"
            ],
            [
             0.3,
             "#f1b6da"
            ],
            [
             0.4,
             "#fde0ef"
            ],
            [
             0.5,
             "#f7f7f7"
            ],
            [
             0.6,
             "#e6f5d0"
            ],
            [
             0.7,
             "#b8e186"
            ],
            [
             0.8,
             "#7fbc41"
            ],
            [
             0.9,
             "#4d9221"
            ],
            [
             1,
             "#276419"
            ]
           ],
           "sequential": [
            [
             0,
             "#0d0887"
            ],
            [
             0.1111111111111111,
             "#46039f"
            ],
            [
             0.2222222222222222,
             "#7201a8"
            ],
            [
             0.3333333333333333,
             "#9c179e"
            ],
            [
             0.4444444444444444,
             "#bd3786"
            ],
            [
             0.5555555555555556,
             "#d8576b"
            ],
            [
             0.6666666666666666,
             "#ed7953"
            ],
            [
             0.7777777777777778,
             "#fb9f3a"
            ],
            [
             0.8888888888888888,
             "#fdca26"
            ],
            [
             1,
             "#f0f921"
            ]
           ],
           "sequentialminus": [
            [
             0,
             "#0d0887"
            ],
            [
             0.1111111111111111,
             "#46039f"
            ],
            [
             0.2222222222222222,
             "#7201a8"
            ],
            [
             0.3333333333333333,
             "#9c179e"
            ],
            [
             0.4444444444444444,
             "#bd3786"
            ],
            [
             0.5555555555555556,
             "#d8576b"
            ],
            [
             0.6666666666666666,
             "#ed7953"
            ],
            [
             0.7777777777777778,
             "#fb9f3a"
            ],
            [
             0.8888888888888888,
             "#fdca26"
            ],
            [
             1,
             "#f0f921"
            ]
           ]
          },
          "colorway": [
           "#636efa",
           "#EF553B",
           "#00cc96",
           "#ab63fa",
           "#FFA15A",
           "#19d3f3",
           "#FF6692",
           "#B6E880",
           "#FF97FF",
           "#FECB52"
          ],
          "font": {
           "color": "#2a3f5f"
          },
          "geo": {
           "bgcolor": "white",
           "lakecolor": "white",
           "landcolor": "#E5ECF6",
           "showlakes": true,
           "showland": true,
           "subunitcolor": "white"
          },
          "hoverlabel": {
           "align": "left"
          },
          "hovermode": "closest",
          "mapbox": {
           "style": "light"
          },
          "paper_bgcolor": "white",
          "plot_bgcolor": "#E5ECF6",
          "polar": {
           "angularaxis": {
            "gridcolor": "white",
            "linecolor": "white",
            "ticks": ""
           },
           "bgcolor": "#E5ECF6",
           "radialaxis": {
            "gridcolor": "white",
            "linecolor": "white",
            "ticks": ""
           }
          },
          "scene": {
           "xaxis": {
            "backgroundcolor": "#E5ECF6",
            "gridcolor": "white",
            "gridwidth": 2,
            "linecolor": "white",
            "showbackground": true,
            "ticks": "",
            "zerolinecolor": "white"
           },
           "yaxis": {
            "backgroundcolor": "#E5ECF6",
            "gridcolor": "white",
            "gridwidth": 2,
            "linecolor": "white",
            "showbackground": true,
            "ticks": "",
            "zerolinecolor": "white"
           },
           "zaxis": {
            "backgroundcolor": "#E5ECF6",
            "gridcolor": "white",
            "gridwidth": 2,
            "linecolor": "white",
            "showbackground": true,
            "ticks": "",
            "zerolinecolor": "white"
           }
          },
          "shapedefaults": {
           "line": {
            "color": "#2a3f5f"
           }
          },
          "ternary": {
           "aaxis": {
            "gridcolor": "white",
            "linecolor": "white",
            "ticks": ""
           },
           "baxis": {
            "gridcolor": "white",
            "linecolor": "white",
            "ticks": ""
           },
           "bgcolor": "#E5ECF6",
           "caxis": {
            "gridcolor": "white",
            "linecolor": "white",
            "ticks": ""
           }
          },
          "title": {
           "x": 0.05
          },
          "xaxis": {
           "automargin": true,
           "gridcolor": "white",
           "linecolor": "white",
           "ticks": "",
           "title": {
            "standoff": 15
           },
           "zerolinecolor": "white",
           "zerolinewidth": 2
          },
          "yaxis": {
           "automargin": true,
           "gridcolor": "white",
           "linecolor": "white",
           "ticks": "",
           "title": {
            "standoff": 15
           },
           "zerolinecolor": "white",
           "zerolinewidth": 2
          }
         }
        },
        "title": {
         "text": "Top Goalscorers"
        },
        "xaxis": {
         "anchor": "y",
         "domain": [
          0,
          1
         ],
         "title": {
          "text": "Player Name"
         }
        },
        "yaxis": {
         "anchor": "x",
         "domain": [
          0,
          1
         ],
         "title": {
          "text": "Goals"
         }
        }
       }
      },
      "text/html": [
       "<div>                            <div id=\"3b1623c1-30b5-41d0-ab96-e564290e8a4f\" class=\"plotly-graph-div\" style=\"height:525px; width:100%;\"></div>            <script type=\"text/javascript\">                require([\"plotly\"], function(Plotly) {                    window.PLOTLYENV=window.PLOTLYENV || {};                                    if (document.getElementById(\"3b1623c1-30b5-41d0-ab96-e564290e8a4f\")) {                    Plotly.newPlot(                        \"3b1623c1-30b5-41d0-ab96-e564290e8a4f\",                        [{\"alignmentgroup\":\"True\",\"hovertemplate\":\"<b>%{hovertext}</b><br><br>x=%{x}<br>y=%{y}<br>color=%{marker.color}<extra></extra>\",\"hovertext\":[\"Benzema\",\"Lewandowski\",\"Haller\",\"Salah\",\"Nkunku\",\"Mahrez\",\"San\\u00e9\",\"Ronaldo\",\"Danjuma\",\"Mbapp\\u00e9\",\"N\\u00fa\\u00f1ez\",\"Man\\u00e9\",\"Rodrygo\",\"Messi\",\"Firmino\",\"Vin\\u00edcius J\\u00fanior\",\"Jesus\",\"Griezmann\",\"Pedro Gon\\u00e7alves\",\"Luis D\\u00edaz\"],\"legendgroup\":\"\",\"marker\":{\"color\":[15,13,11,8,7,7,6,6,6,6,6,5,5,5,5,4,4,4,4,4],\"coloraxis\":\"coloraxis\",\"pattern\":{\"shape\":\"\"}},\"name\":\"\",\"offsetgroup\":\"\",\"orientation\":\"v\",\"showlegend\":false,\"textposition\":\"auto\",\"x\":[\"Benzema\",\"Lewandowski\",\"Haller\",\"Salah\",\"Nkunku\",\"Mahrez\",\"San\\u00e9\",\"Ronaldo\",\"Danjuma\",\"Mbapp\\u00e9\",\"N\\u00fa\\u00f1ez\",\"Man\\u00e9\",\"Rodrygo\",\"Messi\",\"Firmino\",\"Vin\\u00edcius J\\u00fanior\",\"Jesus\",\"Griezmann\",\"Pedro Gon\\u00e7alves\",\"Luis D\\u00edaz\"],\"xaxis\":\"x\",\"y\":[15,13,11,8,7,7,6,6,6,6,6,5,5,5,5,4,4,4,4,4],\"yaxis\":\"y\",\"type\":\"bar\"}],                        {\"template\":{\"data\":{\"bar\":[{\"error_x\":{\"color\":\"#2a3f5f\"},\"error_y\":{\"color\":\"#2a3f5f\"},\"marker\":{\"line\":{\"color\":\"#E5ECF6\",\"width\":0.5},\"pattern\":{\"fillmode\":\"overlay\",\"size\":10,\"solidity\":0.2}},\"type\":\"bar\"}],\"barpolar\":[{\"marker\":{\"line\":{\"color\":\"#E5ECF6\",\"width\":0.5},\"pattern\":{\"fillmode\":\"overlay\",\"size\":10,\"solidity\":0.2}},\"type\":\"barpolar\"}],\"carpet\":[{\"aaxis\":{\"endlinecolor\":\"#2a3f5f\",\"gridcolor\":\"white\",\"linecolor\":\"white\",\"minorgridcolor\":\"white\",\"startlinecolor\":\"#2a3f5f\"},\"baxis\":{\"endlinecolor\":\"#2a3f5f\",\"gridcolor\":\"white\",\"linecolor\":\"white\",\"minorgridcolor\":\"white\",\"startlinecolor\":\"#2a3f5f\"},\"type\":\"carpet\"}],\"choropleth\":[{\"colorbar\":{\"outlinewidth\":0,\"ticks\":\"\"},\"type\":\"choropleth\"}],\"contour\":[{\"colorbar\":{\"outlinewidth\":0,\"ticks\":\"\"},\"colorscale\":[[0.0,\"#0d0887\"],[0.1111111111111111,\"#46039f\"],[0.2222222222222222,\"#7201a8\"],[0.3333333333333333,\"#9c179e\"],[0.4444444444444444,\"#bd3786\"],[0.5555555555555556,\"#d8576b\"],[0.6666666666666666,\"#ed7953\"],[0.7777777777777778,\"#fb9f3a\"],[0.8888888888888888,\"#fdca26\"],[1.0,\"#f0f921\"]],\"type\":\"contour\"}],\"contourcarpet\":[{\"colorbar\":{\"outlinewidth\":0,\"ticks\":\"\"},\"type\":\"contourcarpet\"}],\"heatmap\":[{\"colorbar\":{\"outlinewidth\":0,\"ticks\":\"\"},\"colorscale\":[[0.0,\"#0d0887\"],[0.1111111111111111,\"#46039f\"],[0.2222222222222222,\"#7201a8\"],[0.3333333333333333,\"#9c179e\"],[0.4444444444444444,\"#bd3786\"],[0.5555555555555556,\"#d8576b\"],[0.6666666666666666,\"#ed7953\"],[0.7777777777777778,\"#fb9f3a\"],[0.8888888888888888,\"#fdca26\"],[1.0,\"#f0f921\"]],\"type\":\"heatmap\"}],\"heatmapgl\":[{\"colorbar\":{\"outlinewidth\":0,\"ticks\":\"\"},\"colorscale\":[[0.0,\"#0d0887\"],[0.1111111111111111,\"#46039f\"],[0.2222222222222222,\"#7201a8\"],[0.3333333333333333,\"#9c179e\"],[0.4444444444444444,\"#bd3786\"],[0.5555555555555556,\"#d8576b\"],[0.6666666666666666,\"#ed7953\"],[0.7777777777777778,\"#fb9f3a\"],[0.8888888888888888,\"#fdca26\"],[1.0,\"#f0f921\"]],\"type\":\"heatmapgl\"}],\"histogram\":[{\"marker\":{\"pattern\":{\"fillmode\":\"overlay\",\"size\":10,\"solidity\":0.2}},\"type\":\"histogram\"}],\"histogram2d\":[{\"colorbar\":{\"outlinewidth\":0,\"ticks\":\"\"},\"colorscale\":[[0.0,\"#0d0887\"],[0.1111111111111111,\"#46039f\"],[0.2222222222222222,\"#7201a8\"],[0.3333333333333333,\"#9c179e\"],[0.4444444444444444,\"#bd3786\"],[0.5555555555555556,\"#d8576b\"],[0.6666666666666666,\"#ed7953\"],[0.7777777777777778,\"#fb9f3a\"],[0.8888888888888888,\"#fdca26\"],[1.0,\"#f0f921\"]],\"type\":\"histogram2d\"}],\"histogram2dcontour\":[{\"colorbar\":{\"outlinewidth\":0,\"ticks\":\"\"},\"colorscale\":[[0.0,\"#0d0887\"],[0.1111111111111111,\"#46039f\"],[0.2222222222222222,\"#7201a8\"],[0.3333333333333333,\"#9c179e\"],[0.4444444444444444,\"#bd3786\"],[0.5555555555555556,\"#d8576b\"],[0.6666666666666666,\"#ed7953\"],[0.7777777777777778,\"#fb9f3a\"],[0.8888888888888888,\"#fdca26\"],[1.0,\"#f0f921\"]],\"type\":\"histogram2dcontour\"}],\"mesh3d\":[{\"colorbar\":{\"outlinewidth\":0,\"ticks\":\"\"},\"type\":\"mesh3d\"}],\"parcoords\":[{\"line\":{\"colorbar\":{\"outlinewidth\":0,\"ticks\":\"\"}},\"type\":\"parcoords\"}],\"pie\":[{\"automargin\":true,\"type\":\"pie\"}],\"scatter\":[{\"marker\":{\"colorbar\":{\"outlinewidth\":0,\"ticks\":\"\"}},\"type\":\"scatter\"}],\"scatter3d\":[{\"line\":{\"colorbar\":{\"outlinewidth\":0,\"ticks\":\"\"}},\"marker\":{\"colorbar\":{\"outlinewidth\":0,\"ticks\":\"\"}},\"type\":\"scatter3d\"}],\"scattercarpet\":[{\"marker\":{\"colorbar\":{\"outlinewidth\":0,\"ticks\":\"\"}},\"type\":\"scattercarpet\"}],\"scattergeo\":[{\"marker\":{\"colorbar\":{\"outlinewidth\":0,\"ticks\":\"\"}},\"type\":\"scattergeo\"}],\"scattergl\":[{\"marker\":{\"colorbar\":{\"outlinewidth\":0,\"ticks\":\"\"}},\"type\":\"scattergl\"}],\"scattermapbox\":[{\"marker\":{\"colorbar\":{\"outlinewidth\":0,\"ticks\":\"\"}},\"type\":\"scattermapbox\"}],\"scatterpolar\":[{\"marker\":{\"colorbar\":{\"outlinewidth\":0,\"ticks\":\"\"}},\"type\":\"scatterpolar\"}],\"scatterpolargl\":[{\"marker\":{\"colorbar\":{\"outlinewidth\":0,\"ticks\":\"\"}},\"type\":\"scatterpolargl\"}],\"scatterternary\":[{\"marker\":{\"colorbar\":{\"outlinewidth\":0,\"ticks\":\"\"}},\"type\":\"scatterternary\"}],\"surface\":[{\"colorbar\":{\"outlinewidth\":0,\"ticks\":\"\"},\"colorscale\":[[0.0,\"#0d0887\"],[0.1111111111111111,\"#46039f\"],[0.2222222222222222,\"#7201a8\"],[0.3333333333333333,\"#9c179e\"],[0.4444444444444444,\"#bd3786\"],[0.5555555555555556,\"#d8576b\"],[0.6666666666666666,\"#ed7953\"],[0.7777777777777778,\"#fb9f3a\"],[0.8888888888888888,\"#fdca26\"],[1.0,\"#f0f921\"]],\"type\":\"surface\"}],\"table\":[{\"cells\":{\"fill\":{\"color\":\"#EBF0F8\"},\"line\":{\"color\":\"white\"}},\"header\":{\"fill\":{\"color\":\"#C8D4E3\"},\"line\":{\"color\":\"white\"}},\"type\":\"table\"}]},\"layout\":{\"annotationdefaults\":{\"arrowcolor\":\"#2a3f5f\",\"arrowhead\":0,\"arrowwidth\":1},\"autotypenumbers\":\"strict\",\"coloraxis\":{\"colorbar\":{\"outlinewidth\":0,\"ticks\":\"\"}},\"colorscale\":{\"diverging\":[[0,\"#8e0152\"],[0.1,\"#c51b7d\"],[0.2,\"#de77ae\"],[0.3,\"#f1b6da\"],[0.4,\"#fde0ef\"],[0.5,\"#f7f7f7\"],[0.6,\"#e6f5d0\"],[0.7,\"#b8e186\"],[0.8,\"#7fbc41\"],[0.9,\"#4d9221\"],[1,\"#276419\"]],\"sequential\":[[0.0,\"#0d0887\"],[0.1111111111111111,\"#46039f\"],[0.2222222222222222,\"#7201a8\"],[0.3333333333333333,\"#9c179e\"],[0.4444444444444444,\"#bd3786\"],[0.5555555555555556,\"#d8576b\"],[0.6666666666666666,\"#ed7953\"],[0.7777777777777778,\"#fb9f3a\"],[0.8888888888888888,\"#fdca26\"],[1.0,\"#f0f921\"]],\"sequentialminus\":[[0.0,\"#0d0887\"],[0.1111111111111111,\"#46039f\"],[0.2222222222222222,\"#7201a8\"],[0.3333333333333333,\"#9c179e\"],[0.4444444444444444,\"#bd3786\"],[0.5555555555555556,\"#d8576b\"],[0.6666666666666666,\"#ed7953\"],[0.7777777777777778,\"#fb9f3a\"],[0.8888888888888888,\"#fdca26\"],[1.0,\"#f0f921\"]]},\"colorway\":[\"#636efa\",\"#EF553B\",\"#00cc96\",\"#ab63fa\",\"#FFA15A\",\"#19d3f3\",\"#FF6692\",\"#B6E880\",\"#FF97FF\",\"#FECB52\"],\"font\":{\"color\":\"#2a3f5f\"},\"geo\":{\"bgcolor\":\"white\",\"lakecolor\":\"white\",\"landcolor\":\"#E5ECF6\",\"showlakes\":true,\"showland\":true,\"subunitcolor\":\"white\"},\"hoverlabel\":{\"align\":\"left\"},\"hovermode\":\"closest\",\"mapbox\":{\"style\":\"light\"},\"paper_bgcolor\":\"white\",\"plot_bgcolor\":\"#E5ECF6\",\"polar\":{\"angularaxis\":{\"gridcolor\":\"white\",\"linecolor\":\"white\",\"ticks\":\"\"},\"bgcolor\":\"#E5ECF6\",\"radialaxis\":{\"gridcolor\":\"white\",\"linecolor\":\"white\",\"ticks\":\"\"}},\"scene\":{\"xaxis\":{\"backgroundcolor\":\"#E5ECF6\",\"gridcolor\":\"white\",\"gridwidth\":2,\"linecolor\":\"white\",\"showbackground\":true,\"ticks\":\"\",\"zerolinecolor\":\"white\"},\"yaxis\":{\"backgroundcolor\":\"#E5ECF6\",\"gridcolor\":\"white\",\"gridwidth\":2,\"linecolor\":\"white\",\"showbackground\":true,\"ticks\":\"\",\"zerolinecolor\":\"white\"},\"zaxis\":{\"backgroundcolor\":\"#E5ECF6\",\"gridcolor\":\"white\",\"gridwidth\":2,\"linecolor\":\"white\",\"showbackground\":true,\"ticks\":\"\",\"zerolinecolor\":\"white\"}},\"shapedefaults\":{\"line\":{\"color\":\"#2a3f5f\"}},\"ternary\":{\"aaxis\":{\"gridcolor\":\"white\",\"linecolor\":\"white\",\"ticks\":\"\"},\"baxis\":{\"gridcolor\":\"white\",\"linecolor\":\"white\",\"ticks\":\"\"},\"bgcolor\":\"#E5ECF6\",\"caxis\":{\"gridcolor\":\"white\",\"linecolor\":\"white\",\"ticks\":\"\"}},\"title\":{\"x\":0.05},\"xaxis\":{\"automargin\":true,\"gridcolor\":\"white\",\"linecolor\":\"white\",\"ticks\":\"\",\"title\":{\"standoff\":15},\"zerolinecolor\":\"white\",\"zerolinewidth\":2},\"yaxis\":{\"automargin\":true,\"gridcolor\":\"white\",\"linecolor\":\"white\",\"ticks\":\"\",\"title\":{\"standoff\":15},\"zerolinecolor\":\"white\",\"zerolinewidth\":2}}},\"xaxis\":{\"anchor\":\"y\",\"domain\":[0.0,1.0],\"title\":{\"text\":\"Player Name\"}},\"yaxis\":{\"anchor\":\"x\",\"domain\":[0.0,1.0],\"title\":{\"text\":\"Goals\"}},\"coloraxis\":{\"colorbar\":{\"title\":{\"text\":\"color\"}},\"colorscale\":[[0.0,\"rgb(75, 41, 145)\"],[0.16666666666666666,\"rgb(135, 44, 162)\"],[0.3333333333333333,\"rgb(192, 54, 157)\"],[0.5,\"rgb(234, 79, 136)\"],[0.6666666666666666,\"rgb(250, 120, 118)\"],[0.8333333333333334,\"rgb(246, 169, 122)\"],[1.0,\"rgb(237, 217, 163)\"]],\"showscale\":false},\"legend\":{\"tracegroupgap\":0},\"title\":{\"text\":\"Top Goalscorers\"},\"barmode\":\"relative\"},                        {\"responsive\": true}                    ).then(function(){\n",
       "                            \n",
       "var gd = document.getElementById('3b1623c1-30b5-41d0-ab96-e564290e8a4f');\n",
       "var x = new MutationObserver(function (mutations, observer) {{\n",
       "        var display = window.getComputedStyle(gd).display;\n",
       "        if (!display || display === 'none') {{\n",
       "            console.log([gd, 'removed!']);\n",
       "            Plotly.purge(gd);\n",
       "            observer.disconnect();\n",
       "        }}\n",
       "}});\n",
       "\n",
       "// Listen for the removal of the full notebook cells\n",
       "var notebookContainer = gd.closest('#notebook-container');\n",
       "if (notebookContainer) {{\n",
       "    x.observe(notebookContainer, {childList: true});\n",
       "}}\n",
       "\n",
       "// Listen for the clearing of the current output cell\n",
       "var outputEl = gd.closest('.output');\n",
       "if (outputEl) {{\n",
       "    x.observe(outputEl, {childList: true});\n",
       "}}\n",
       "\n",
       "                        })                };                });            </script>        </div>"
      ]
     },
     "metadata": {},
     "output_type": "display_data"
    }
   ],
   "source": [
    "top_goals_bar = px.bar(x=top_goals.player_name,\n",
    "                      y=top_goals.goals,\n",
    "                      title=\"Top Goalscorers\",\n",
    "                      hover_name=top_goals.player_name,\n",
    "                      color=top_goals.goals,\n",
    "                      color_continuous_scale='Agsunset')\n",
    "\n",
    "top_goals_bar.update_layout(xaxis_title=\"Player Name\",\n",
    "                           yaxis_title=\"Goals\",\n",
    "                           coloraxis_showscale=False)\n",
    "\n",
    "top_goals_bar.show()"
   ]
  },
  {
   "cell_type": "code",
   "execution_count": 37,
   "id": "2b2125cb",
   "metadata": {},
   "outputs": [
    {
     "data": {
      "text/html": [
       "<div>\n",
       "<style scoped>\n",
       "    .dataframe tbody tr th:only-of-type {\n",
       "        vertical-align: middle;\n",
       "    }\n",
       "\n",
       "    .dataframe tbody tr th {\n",
       "        vertical-align: top;\n",
       "    }\n",
       "\n",
       "    .dataframe thead th {\n",
       "        text-align: right;\n",
       "    }\n",
       "</style>\n",
       "<table border=\"1\" class=\"dataframe\">\n",
       "  <thead>\n",
       "    <tr style=\"text-align: right;\">\n",
       "      <th></th>\n",
       "      <th>club</th>\n",
       "      <th>goals</th>\n",
       "    </tr>\n",
       "  </thead>\n",
       "  <tbody>\n",
       "    <tr>\n",
       "      <th>4</th>\n",
       "      <td>Bayern</td>\n",
       "      <td>30</td>\n",
       "    </tr>\n",
       "    <tr>\n",
       "      <th>15</th>\n",
       "      <td>Liverpool</td>\n",
       "      <td>30</td>\n",
       "    </tr>\n",
       "    <tr>\n",
       "      <th>22</th>\n",
       "      <td>Real Madrid</td>\n",
       "      <td>28</td>\n",
       "    </tr>\n",
       "    <tr>\n",
       "      <th>17</th>\n",
       "      <td>Man. City</td>\n",
       "      <td>28</td>\n",
       "    </tr>\n",
       "    <tr>\n",
       "      <th>0</th>\n",
       "      <td>Ajax</td>\n",
       "      <td>21</td>\n",
       "    </tr>\n",
       "  </tbody>\n",
       "</table>\n",
       "</div>"
      ],
      "text/plain": [
       "           club  goals\n",
       "4        Bayern     30\n",
       "15    Liverpool     30\n",
       "22  Real Madrid     28\n",
       "17    Man. City     28\n",
       "0          Ajax     21"
      ]
     },
     "execution_count": 37,
     "metadata": {},
     "output_type": "execute_result"
    }
   ],
   "source": [
    "top_goals_club = df_goals.groupby([\"club\"], as_index=False).agg({\"goals\":pd.Series.sum})\n",
    "top_goals_club = top_goals_club.sort_values(\"goals\", ascending=False)[:20]\n",
    "top_goals_club.head()"
   ]
  },
  {
   "cell_type": "code",
   "execution_count": 38,
   "id": "1d85d830",
   "metadata": {},
   "outputs": [
    {
     "data": {
      "application/vnd.plotly.v1+json": {
       "config": {
        "plotlyServerURL": "https://plot.ly"
       },
       "data": [
        {
         "alignmentgroup": "True",
         "hovertemplate": "<b>%{hovertext}</b><br><br>x=%{x}<br>y=%{y}<br>color=%{marker.color}<extra></extra>",
         "hovertext": [
          "Bayern",
          "Liverpool",
          "Real Madrid",
          "Man. City",
          "Ajax",
          "Chelsea",
          "Villarreal",
          "Paris",
          "Leipzig",
          "Sporting CP",
          "Benfica",
          "Atalanta",
          "Man. United",
          "Juventus",
          "Salzburg",
          "Dortmund",
          "Zenit",
          "Inter",
          "Atlético",
          "LOSC"
         ],
         "legendgroup": "",
         "marker": {
          "color": [
           30,
           30,
           28,
           28,
           21,
           21,
           20,
           15,
           15,
           14,
           13,
           12,
           12,
           11,
           10,
           10,
           9,
           9,
           9,
           8
          ],
          "coloraxis": "coloraxis",
          "pattern": {
           "shape": ""
          }
         },
         "name": "",
         "offsetgroup": "",
         "orientation": "v",
         "showlegend": false,
         "textposition": "auto",
         "type": "bar",
         "x": [
          "Bayern",
          "Liverpool",
          "Real Madrid",
          "Man. City",
          "Ajax",
          "Chelsea",
          "Villarreal",
          "Paris",
          "Leipzig",
          "Sporting CP",
          "Benfica",
          "Atalanta",
          "Man. United",
          "Juventus",
          "Salzburg",
          "Dortmund",
          "Zenit",
          "Inter",
          "Atlético",
          "LOSC"
         ],
         "xaxis": "x",
         "y": [
          30,
          30,
          28,
          28,
          21,
          21,
          20,
          15,
          15,
          14,
          13,
          12,
          12,
          11,
          10,
          10,
          9,
          9,
          9,
          8
         ],
         "yaxis": "y"
        }
       ],
       "layout": {
        "barmode": "relative",
        "coloraxis": {
         "colorbar": {
          "title": {
           "text": "color"
          }
         },
         "colorscale": [
          [
           0,
           "rgb(75, 41, 145)"
          ],
          [
           0.16666666666666666,
           "rgb(135, 44, 162)"
          ],
          [
           0.3333333333333333,
           "rgb(192, 54, 157)"
          ],
          [
           0.5,
           "rgb(234, 79, 136)"
          ],
          [
           0.6666666666666666,
           "rgb(250, 120, 118)"
          ],
          [
           0.8333333333333334,
           "rgb(246, 169, 122)"
          ],
          [
           1,
           "rgb(237, 217, 163)"
          ]
         ],
         "showscale": false
        },
        "legend": {
         "tracegroupgap": 0
        },
        "template": {
         "data": {
          "bar": [
           {
            "error_x": {
             "color": "#2a3f5f"
            },
            "error_y": {
             "color": "#2a3f5f"
            },
            "marker": {
             "line": {
              "color": "#E5ECF6",
              "width": 0.5
             },
             "pattern": {
              "fillmode": "overlay",
              "size": 10,
              "solidity": 0.2
             }
            },
            "type": "bar"
           }
          ],
          "barpolar": [
           {
            "marker": {
             "line": {
              "color": "#E5ECF6",
              "width": 0.5
             },
             "pattern": {
              "fillmode": "overlay",
              "size": 10,
              "solidity": 0.2
             }
            },
            "type": "barpolar"
           }
          ],
          "carpet": [
           {
            "aaxis": {
             "endlinecolor": "#2a3f5f",
             "gridcolor": "white",
             "linecolor": "white",
             "minorgridcolor": "white",
             "startlinecolor": "#2a3f5f"
            },
            "baxis": {
             "endlinecolor": "#2a3f5f",
             "gridcolor": "white",
             "linecolor": "white",
             "minorgridcolor": "white",
             "startlinecolor": "#2a3f5f"
            },
            "type": "carpet"
           }
          ],
          "choropleth": [
           {
            "colorbar": {
             "outlinewidth": 0,
             "ticks": ""
            },
            "type": "choropleth"
           }
          ],
          "contour": [
           {
            "colorbar": {
             "outlinewidth": 0,
             "ticks": ""
            },
            "colorscale": [
             [
              0,
              "#0d0887"
             ],
             [
              0.1111111111111111,
              "#46039f"
             ],
             [
              0.2222222222222222,
              "#7201a8"
             ],
             [
              0.3333333333333333,
              "#9c179e"
             ],
             [
              0.4444444444444444,
              "#bd3786"
             ],
             [
              0.5555555555555556,
              "#d8576b"
             ],
             [
              0.6666666666666666,
              "#ed7953"
             ],
             [
              0.7777777777777778,
              "#fb9f3a"
             ],
             [
              0.8888888888888888,
              "#fdca26"
             ],
             [
              1,
              "#f0f921"
             ]
            ],
            "type": "contour"
           }
          ],
          "contourcarpet": [
           {
            "colorbar": {
             "outlinewidth": 0,
             "ticks": ""
            },
            "type": "contourcarpet"
           }
          ],
          "heatmap": [
           {
            "colorbar": {
             "outlinewidth": 0,
             "ticks": ""
            },
            "colorscale": [
             [
              0,
              "#0d0887"
             ],
             [
              0.1111111111111111,
              "#46039f"
             ],
             [
              0.2222222222222222,
              "#7201a8"
             ],
             [
              0.3333333333333333,
              "#9c179e"
             ],
             [
              0.4444444444444444,
              "#bd3786"
             ],
             [
              0.5555555555555556,
              "#d8576b"
             ],
             [
              0.6666666666666666,
              "#ed7953"
             ],
             [
              0.7777777777777778,
              "#fb9f3a"
             ],
             [
              0.8888888888888888,
              "#fdca26"
             ],
             [
              1,
              "#f0f921"
             ]
            ],
            "type": "heatmap"
           }
          ],
          "heatmapgl": [
           {
            "colorbar": {
             "outlinewidth": 0,
             "ticks": ""
            },
            "colorscale": [
             [
              0,
              "#0d0887"
             ],
             [
              0.1111111111111111,
              "#46039f"
             ],
             [
              0.2222222222222222,
              "#7201a8"
             ],
             [
              0.3333333333333333,
              "#9c179e"
             ],
             [
              0.4444444444444444,
              "#bd3786"
             ],
             [
              0.5555555555555556,
              "#d8576b"
             ],
             [
              0.6666666666666666,
              "#ed7953"
             ],
             [
              0.7777777777777778,
              "#fb9f3a"
             ],
             [
              0.8888888888888888,
              "#fdca26"
             ],
             [
              1,
              "#f0f921"
             ]
            ],
            "type": "heatmapgl"
           }
          ],
          "histogram": [
           {
            "marker": {
             "pattern": {
              "fillmode": "overlay",
              "size": 10,
              "solidity": 0.2
             }
            },
            "type": "histogram"
           }
          ],
          "histogram2d": [
           {
            "colorbar": {
             "outlinewidth": 0,
             "ticks": ""
            },
            "colorscale": [
             [
              0,
              "#0d0887"
             ],
             [
              0.1111111111111111,
              "#46039f"
             ],
             [
              0.2222222222222222,
              "#7201a8"
             ],
             [
              0.3333333333333333,
              "#9c179e"
             ],
             [
              0.4444444444444444,
              "#bd3786"
             ],
             [
              0.5555555555555556,
              "#d8576b"
             ],
             [
              0.6666666666666666,
              "#ed7953"
             ],
             [
              0.7777777777777778,
              "#fb9f3a"
             ],
             [
              0.8888888888888888,
              "#fdca26"
             ],
             [
              1,
              "#f0f921"
             ]
            ],
            "type": "histogram2d"
           }
          ],
          "histogram2dcontour": [
           {
            "colorbar": {
             "outlinewidth": 0,
             "ticks": ""
            },
            "colorscale": [
             [
              0,
              "#0d0887"
             ],
             [
              0.1111111111111111,
              "#46039f"
             ],
             [
              0.2222222222222222,
              "#7201a8"
             ],
             [
              0.3333333333333333,
              "#9c179e"
             ],
             [
              0.4444444444444444,
              "#bd3786"
             ],
             [
              0.5555555555555556,
              "#d8576b"
             ],
             [
              0.6666666666666666,
              "#ed7953"
             ],
             [
              0.7777777777777778,
              "#fb9f3a"
             ],
             [
              0.8888888888888888,
              "#fdca26"
             ],
             [
              1,
              "#f0f921"
             ]
            ],
            "type": "histogram2dcontour"
           }
          ],
          "mesh3d": [
           {
            "colorbar": {
             "outlinewidth": 0,
             "ticks": ""
            },
            "type": "mesh3d"
           }
          ],
          "parcoords": [
           {
            "line": {
             "colorbar": {
              "outlinewidth": 0,
              "ticks": ""
             }
            },
            "type": "parcoords"
           }
          ],
          "pie": [
           {
            "automargin": true,
            "type": "pie"
           }
          ],
          "scatter": [
           {
            "marker": {
             "colorbar": {
              "outlinewidth": 0,
              "ticks": ""
             }
            },
            "type": "scatter"
           }
          ],
          "scatter3d": [
           {
            "line": {
             "colorbar": {
              "outlinewidth": 0,
              "ticks": ""
             }
            },
            "marker": {
             "colorbar": {
              "outlinewidth": 0,
              "ticks": ""
             }
            },
            "type": "scatter3d"
           }
          ],
          "scattercarpet": [
           {
            "marker": {
             "colorbar": {
              "outlinewidth": 0,
              "ticks": ""
             }
            },
            "type": "scattercarpet"
           }
          ],
          "scattergeo": [
           {
            "marker": {
             "colorbar": {
              "outlinewidth": 0,
              "ticks": ""
             }
            },
            "type": "scattergeo"
           }
          ],
          "scattergl": [
           {
            "marker": {
             "colorbar": {
              "outlinewidth": 0,
              "ticks": ""
             }
            },
            "type": "scattergl"
           }
          ],
          "scattermapbox": [
           {
            "marker": {
             "colorbar": {
              "outlinewidth": 0,
              "ticks": ""
             }
            },
            "type": "scattermapbox"
           }
          ],
          "scatterpolar": [
           {
            "marker": {
             "colorbar": {
              "outlinewidth": 0,
              "ticks": ""
             }
            },
            "type": "scatterpolar"
           }
          ],
          "scatterpolargl": [
           {
            "marker": {
             "colorbar": {
              "outlinewidth": 0,
              "ticks": ""
             }
            },
            "type": "scatterpolargl"
           }
          ],
          "scatterternary": [
           {
            "marker": {
             "colorbar": {
              "outlinewidth": 0,
              "ticks": ""
             }
            },
            "type": "scatterternary"
           }
          ],
          "surface": [
           {
            "colorbar": {
             "outlinewidth": 0,
             "ticks": ""
            },
            "colorscale": [
             [
              0,
              "#0d0887"
             ],
             [
              0.1111111111111111,
              "#46039f"
             ],
             [
              0.2222222222222222,
              "#7201a8"
             ],
             [
              0.3333333333333333,
              "#9c179e"
             ],
             [
              0.4444444444444444,
              "#bd3786"
             ],
             [
              0.5555555555555556,
              "#d8576b"
             ],
             [
              0.6666666666666666,
              "#ed7953"
             ],
             [
              0.7777777777777778,
              "#fb9f3a"
             ],
             [
              0.8888888888888888,
              "#fdca26"
             ],
             [
              1,
              "#f0f921"
             ]
            ],
            "type": "surface"
           }
          ],
          "table": [
           {
            "cells": {
             "fill": {
              "color": "#EBF0F8"
             },
             "line": {
              "color": "white"
             }
            },
            "header": {
             "fill": {
              "color": "#C8D4E3"
             },
             "line": {
              "color": "white"
             }
            },
            "type": "table"
           }
          ]
         },
         "layout": {
          "annotationdefaults": {
           "arrowcolor": "#2a3f5f",
           "arrowhead": 0,
           "arrowwidth": 1
          },
          "autotypenumbers": "strict",
          "coloraxis": {
           "colorbar": {
            "outlinewidth": 0,
            "ticks": ""
           }
          },
          "colorscale": {
           "diverging": [
            [
             0,
             "#8e0152"
            ],
            [
             0.1,
             "#c51b7d"
            ],
            [
             0.2,
             "#de77ae"
            ],
            [
             0.3,
             "#f1b6da"
            ],
            [
             0.4,
             "#fde0ef"
            ],
            [
             0.5,
             "#f7f7f7"
            ],
            [
             0.6,
             "#e6f5d0"
            ],
            [
             0.7,
             "#b8e186"
            ],
            [
             0.8,
             "#7fbc41"
            ],
            [
             0.9,
             "#4d9221"
            ],
            [
             1,
             "#276419"
            ]
           ],
           "sequential": [
            [
             0,
             "#0d0887"
            ],
            [
             0.1111111111111111,
             "#46039f"
            ],
            [
             0.2222222222222222,
             "#7201a8"
            ],
            [
             0.3333333333333333,
             "#9c179e"
            ],
            [
             0.4444444444444444,
             "#bd3786"
            ],
            [
             0.5555555555555556,
             "#d8576b"
            ],
            [
             0.6666666666666666,
             "#ed7953"
            ],
            [
             0.7777777777777778,
             "#fb9f3a"
            ],
            [
             0.8888888888888888,
             "#fdca26"
            ],
            [
             1,
             "#f0f921"
            ]
           ],
           "sequentialminus": [
            [
             0,
             "#0d0887"
            ],
            [
             0.1111111111111111,
             "#46039f"
            ],
            [
             0.2222222222222222,
             "#7201a8"
            ],
            [
             0.3333333333333333,
             "#9c179e"
            ],
            [
             0.4444444444444444,
             "#bd3786"
            ],
            [
             0.5555555555555556,
             "#d8576b"
            ],
            [
             0.6666666666666666,
             "#ed7953"
            ],
            [
             0.7777777777777778,
             "#fb9f3a"
            ],
            [
             0.8888888888888888,
             "#fdca26"
            ],
            [
             1,
             "#f0f921"
            ]
           ]
          },
          "colorway": [
           "#636efa",
           "#EF553B",
           "#00cc96",
           "#ab63fa",
           "#FFA15A",
           "#19d3f3",
           "#FF6692",
           "#B6E880",
           "#FF97FF",
           "#FECB52"
          ],
          "font": {
           "color": "#2a3f5f"
          },
          "geo": {
           "bgcolor": "white",
           "lakecolor": "white",
           "landcolor": "#E5ECF6",
           "showlakes": true,
           "showland": true,
           "subunitcolor": "white"
          },
          "hoverlabel": {
           "align": "left"
          },
          "hovermode": "closest",
          "mapbox": {
           "style": "light"
          },
          "paper_bgcolor": "white",
          "plot_bgcolor": "#E5ECF6",
          "polar": {
           "angularaxis": {
            "gridcolor": "white",
            "linecolor": "white",
            "ticks": ""
           },
           "bgcolor": "#E5ECF6",
           "radialaxis": {
            "gridcolor": "white",
            "linecolor": "white",
            "ticks": ""
           }
          },
          "scene": {
           "xaxis": {
            "backgroundcolor": "#E5ECF6",
            "gridcolor": "white",
            "gridwidth": 2,
            "linecolor": "white",
            "showbackground": true,
            "ticks": "",
            "zerolinecolor": "white"
           },
           "yaxis": {
            "backgroundcolor": "#E5ECF6",
            "gridcolor": "white",
            "gridwidth": 2,
            "linecolor": "white",
            "showbackground": true,
            "ticks": "",
            "zerolinecolor": "white"
           },
           "zaxis": {
            "backgroundcolor": "#E5ECF6",
            "gridcolor": "white",
            "gridwidth": 2,
            "linecolor": "white",
            "showbackground": true,
            "ticks": "",
            "zerolinecolor": "white"
           }
          },
          "shapedefaults": {
           "line": {
            "color": "#2a3f5f"
           }
          },
          "ternary": {
           "aaxis": {
            "gridcolor": "white",
            "linecolor": "white",
            "ticks": ""
           },
           "baxis": {
            "gridcolor": "white",
            "linecolor": "white",
            "ticks": ""
           },
           "bgcolor": "#E5ECF6",
           "caxis": {
            "gridcolor": "white",
            "linecolor": "white",
            "ticks": ""
           }
          },
          "title": {
           "x": 0.05
          },
          "xaxis": {
           "automargin": true,
           "gridcolor": "white",
           "linecolor": "white",
           "ticks": "",
           "title": {
            "standoff": 15
           },
           "zerolinecolor": "white",
           "zerolinewidth": 2
          },
          "yaxis": {
           "automargin": true,
           "gridcolor": "white",
           "linecolor": "white",
           "ticks": "",
           "title": {
            "standoff": 15
           },
           "zerolinecolor": "white",
           "zerolinewidth": 2
          }
         }
        },
        "title": {
         "text": "Top Goalscoring Clubs"
        },
        "xaxis": {
         "anchor": "y",
         "domain": [
          0,
          1
         ],
         "title": {
          "text": "Club Name"
         }
        },
        "yaxis": {
         "anchor": "x",
         "domain": [
          0,
          1
         ],
         "title": {
          "text": "Goals"
         }
        }
       }
      },
      "text/html": [
       "<div>                            <div id=\"eb7a0579-3b95-4a3b-bab8-5c8075608291\" class=\"plotly-graph-div\" style=\"height:525px; width:100%;\"></div>            <script type=\"text/javascript\">                require([\"plotly\"], function(Plotly) {                    window.PLOTLYENV=window.PLOTLYENV || {};                                    if (document.getElementById(\"eb7a0579-3b95-4a3b-bab8-5c8075608291\")) {                    Plotly.newPlot(                        \"eb7a0579-3b95-4a3b-bab8-5c8075608291\",                        [{\"alignmentgroup\":\"True\",\"hovertemplate\":\"<b>%{hovertext}</b><br><br>x=%{x}<br>y=%{y}<br>color=%{marker.color}<extra></extra>\",\"hovertext\":[\"Bayern\",\"Liverpool\",\"Real Madrid\",\"Man. City\",\"Ajax\",\"Chelsea\",\"Villarreal\",\"Paris\",\"Leipzig\",\"Sporting CP\",\"Benfica\",\"Atalanta\",\"Man. United\",\"Juventus\",\"Salzburg\",\"Dortmund\",\"Zenit\",\"Inter\",\"Atl\\u00e9tico\",\"LOSC\"],\"legendgroup\":\"\",\"marker\":{\"color\":[30,30,28,28,21,21,20,15,15,14,13,12,12,11,10,10,9,9,9,8],\"coloraxis\":\"coloraxis\",\"pattern\":{\"shape\":\"\"}},\"name\":\"\",\"offsetgroup\":\"\",\"orientation\":\"v\",\"showlegend\":false,\"textposition\":\"auto\",\"x\":[\"Bayern\",\"Liverpool\",\"Real Madrid\",\"Man. City\",\"Ajax\",\"Chelsea\",\"Villarreal\",\"Paris\",\"Leipzig\",\"Sporting CP\",\"Benfica\",\"Atalanta\",\"Man. United\",\"Juventus\",\"Salzburg\",\"Dortmund\",\"Zenit\",\"Inter\",\"Atl\\u00e9tico\",\"LOSC\"],\"xaxis\":\"x\",\"y\":[30,30,28,28,21,21,20,15,15,14,13,12,12,11,10,10,9,9,9,8],\"yaxis\":\"y\",\"type\":\"bar\"}],                        {\"template\":{\"data\":{\"bar\":[{\"error_x\":{\"color\":\"#2a3f5f\"},\"error_y\":{\"color\":\"#2a3f5f\"},\"marker\":{\"line\":{\"color\":\"#E5ECF6\",\"width\":0.5},\"pattern\":{\"fillmode\":\"overlay\",\"size\":10,\"solidity\":0.2}},\"type\":\"bar\"}],\"barpolar\":[{\"marker\":{\"line\":{\"color\":\"#E5ECF6\",\"width\":0.5},\"pattern\":{\"fillmode\":\"overlay\",\"size\":10,\"solidity\":0.2}},\"type\":\"barpolar\"}],\"carpet\":[{\"aaxis\":{\"endlinecolor\":\"#2a3f5f\",\"gridcolor\":\"white\",\"linecolor\":\"white\",\"minorgridcolor\":\"white\",\"startlinecolor\":\"#2a3f5f\"},\"baxis\":{\"endlinecolor\":\"#2a3f5f\",\"gridcolor\":\"white\",\"linecolor\":\"white\",\"minorgridcolor\":\"white\",\"startlinecolor\":\"#2a3f5f\"},\"type\":\"carpet\"}],\"choropleth\":[{\"colorbar\":{\"outlinewidth\":0,\"ticks\":\"\"},\"type\":\"choropleth\"}],\"contour\":[{\"colorbar\":{\"outlinewidth\":0,\"ticks\":\"\"},\"colorscale\":[[0.0,\"#0d0887\"],[0.1111111111111111,\"#46039f\"],[0.2222222222222222,\"#7201a8\"],[0.3333333333333333,\"#9c179e\"],[0.4444444444444444,\"#bd3786\"],[0.5555555555555556,\"#d8576b\"],[0.6666666666666666,\"#ed7953\"],[0.7777777777777778,\"#fb9f3a\"],[0.8888888888888888,\"#fdca26\"],[1.0,\"#f0f921\"]],\"type\":\"contour\"}],\"contourcarpet\":[{\"colorbar\":{\"outlinewidth\":0,\"ticks\":\"\"},\"type\":\"contourcarpet\"}],\"heatmap\":[{\"colorbar\":{\"outlinewidth\":0,\"ticks\":\"\"},\"colorscale\":[[0.0,\"#0d0887\"],[0.1111111111111111,\"#46039f\"],[0.2222222222222222,\"#7201a8\"],[0.3333333333333333,\"#9c179e\"],[0.4444444444444444,\"#bd3786\"],[0.5555555555555556,\"#d8576b\"],[0.6666666666666666,\"#ed7953\"],[0.7777777777777778,\"#fb9f3a\"],[0.8888888888888888,\"#fdca26\"],[1.0,\"#f0f921\"]],\"type\":\"heatmap\"}],\"heatmapgl\":[{\"colorbar\":{\"outlinewidth\":0,\"ticks\":\"\"},\"colorscale\":[[0.0,\"#0d0887\"],[0.1111111111111111,\"#46039f\"],[0.2222222222222222,\"#7201a8\"],[0.3333333333333333,\"#9c179e\"],[0.4444444444444444,\"#bd3786\"],[0.5555555555555556,\"#d8576b\"],[0.6666666666666666,\"#ed7953\"],[0.7777777777777778,\"#fb9f3a\"],[0.8888888888888888,\"#fdca26\"],[1.0,\"#f0f921\"]],\"type\":\"heatmapgl\"}],\"histogram\":[{\"marker\":{\"pattern\":{\"fillmode\":\"overlay\",\"size\":10,\"solidity\":0.2}},\"type\":\"histogram\"}],\"histogram2d\":[{\"colorbar\":{\"outlinewidth\":0,\"ticks\":\"\"},\"colorscale\":[[0.0,\"#0d0887\"],[0.1111111111111111,\"#46039f\"],[0.2222222222222222,\"#7201a8\"],[0.3333333333333333,\"#9c179e\"],[0.4444444444444444,\"#bd3786\"],[0.5555555555555556,\"#d8576b\"],[0.6666666666666666,\"#ed7953\"],[0.7777777777777778,\"#fb9f3a\"],[0.8888888888888888,\"#fdca26\"],[1.0,\"#f0f921\"]],\"type\":\"histogram2d\"}],\"histogram2dcontour\":[{\"colorbar\":{\"outlinewidth\":0,\"ticks\":\"\"},\"colorscale\":[[0.0,\"#0d0887\"],[0.1111111111111111,\"#46039f\"],[0.2222222222222222,\"#7201a8\"],[0.3333333333333333,\"#9c179e\"],[0.4444444444444444,\"#bd3786\"],[0.5555555555555556,\"#d8576b\"],[0.6666666666666666,\"#ed7953\"],[0.7777777777777778,\"#fb9f3a\"],[0.8888888888888888,\"#fdca26\"],[1.0,\"#f0f921\"]],\"type\":\"histogram2dcontour\"}],\"mesh3d\":[{\"colorbar\":{\"outlinewidth\":0,\"ticks\":\"\"},\"type\":\"mesh3d\"}],\"parcoords\":[{\"line\":{\"colorbar\":{\"outlinewidth\":0,\"ticks\":\"\"}},\"type\":\"parcoords\"}],\"pie\":[{\"automargin\":true,\"type\":\"pie\"}],\"scatter\":[{\"marker\":{\"colorbar\":{\"outlinewidth\":0,\"ticks\":\"\"}},\"type\":\"scatter\"}],\"scatter3d\":[{\"line\":{\"colorbar\":{\"outlinewidth\":0,\"ticks\":\"\"}},\"marker\":{\"colorbar\":{\"outlinewidth\":0,\"ticks\":\"\"}},\"type\":\"scatter3d\"}],\"scattercarpet\":[{\"marker\":{\"colorbar\":{\"outlinewidth\":0,\"ticks\":\"\"}},\"type\":\"scattercarpet\"}],\"scattergeo\":[{\"marker\":{\"colorbar\":{\"outlinewidth\":0,\"ticks\":\"\"}},\"type\":\"scattergeo\"}],\"scattergl\":[{\"marker\":{\"colorbar\":{\"outlinewidth\":0,\"ticks\":\"\"}},\"type\":\"scattergl\"}],\"scattermapbox\":[{\"marker\":{\"colorbar\":{\"outlinewidth\":0,\"ticks\":\"\"}},\"type\":\"scattermapbox\"}],\"scatterpolar\":[{\"marker\":{\"colorbar\":{\"outlinewidth\":0,\"ticks\":\"\"}},\"type\":\"scatterpolar\"}],\"scatterpolargl\":[{\"marker\":{\"colorbar\":{\"outlinewidth\":0,\"ticks\":\"\"}},\"type\":\"scatterpolargl\"}],\"scatterternary\":[{\"marker\":{\"colorbar\":{\"outlinewidth\":0,\"ticks\":\"\"}},\"type\":\"scatterternary\"}],\"surface\":[{\"colorbar\":{\"outlinewidth\":0,\"ticks\":\"\"},\"colorscale\":[[0.0,\"#0d0887\"],[0.1111111111111111,\"#46039f\"],[0.2222222222222222,\"#7201a8\"],[0.3333333333333333,\"#9c179e\"],[0.4444444444444444,\"#bd3786\"],[0.5555555555555556,\"#d8576b\"],[0.6666666666666666,\"#ed7953\"],[0.7777777777777778,\"#fb9f3a\"],[0.8888888888888888,\"#fdca26\"],[1.0,\"#f0f921\"]],\"type\":\"surface\"}],\"table\":[{\"cells\":{\"fill\":{\"color\":\"#EBF0F8\"},\"line\":{\"color\":\"white\"}},\"header\":{\"fill\":{\"color\":\"#C8D4E3\"},\"line\":{\"color\":\"white\"}},\"type\":\"table\"}]},\"layout\":{\"annotationdefaults\":{\"arrowcolor\":\"#2a3f5f\",\"arrowhead\":0,\"arrowwidth\":1},\"autotypenumbers\":\"strict\",\"coloraxis\":{\"colorbar\":{\"outlinewidth\":0,\"ticks\":\"\"}},\"colorscale\":{\"diverging\":[[0,\"#8e0152\"],[0.1,\"#c51b7d\"],[0.2,\"#de77ae\"],[0.3,\"#f1b6da\"],[0.4,\"#fde0ef\"],[0.5,\"#f7f7f7\"],[0.6,\"#e6f5d0\"],[0.7,\"#b8e186\"],[0.8,\"#7fbc41\"],[0.9,\"#4d9221\"],[1,\"#276419\"]],\"sequential\":[[0.0,\"#0d0887\"],[0.1111111111111111,\"#46039f\"],[0.2222222222222222,\"#7201a8\"],[0.3333333333333333,\"#9c179e\"],[0.4444444444444444,\"#bd3786\"],[0.5555555555555556,\"#d8576b\"],[0.6666666666666666,\"#ed7953\"],[0.7777777777777778,\"#fb9f3a\"],[0.8888888888888888,\"#fdca26\"],[1.0,\"#f0f921\"]],\"sequentialminus\":[[0.0,\"#0d0887\"],[0.1111111111111111,\"#46039f\"],[0.2222222222222222,\"#7201a8\"],[0.3333333333333333,\"#9c179e\"],[0.4444444444444444,\"#bd3786\"],[0.5555555555555556,\"#d8576b\"],[0.6666666666666666,\"#ed7953\"],[0.7777777777777778,\"#fb9f3a\"],[0.8888888888888888,\"#fdca26\"],[1.0,\"#f0f921\"]]},\"colorway\":[\"#636efa\",\"#EF553B\",\"#00cc96\",\"#ab63fa\",\"#FFA15A\",\"#19d3f3\",\"#FF6692\",\"#B6E880\",\"#FF97FF\",\"#FECB52\"],\"font\":{\"color\":\"#2a3f5f\"},\"geo\":{\"bgcolor\":\"white\",\"lakecolor\":\"white\",\"landcolor\":\"#E5ECF6\",\"showlakes\":true,\"showland\":true,\"subunitcolor\":\"white\"},\"hoverlabel\":{\"align\":\"left\"},\"hovermode\":\"closest\",\"mapbox\":{\"style\":\"light\"},\"paper_bgcolor\":\"white\",\"plot_bgcolor\":\"#E5ECF6\",\"polar\":{\"angularaxis\":{\"gridcolor\":\"white\",\"linecolor\":\"white\",\"ticks\":\"\"},\"bgcolor\":\"#E5ECF6\",\"radialaxis\":{\"gridcolor\":\"white\",\"linecolor\":\"white\",\"ticks\":\"\"}},\"scene\":{\"xaxis\":{\"backgroundcolor\":\"#E5ECF6\",\"gridcolor\":\"white\",\"gridwidth\":2,\"linecolor\":\"white\",\"showbackground\":true,\"ticks\":\"\",\"zerolinecolor\":\"white\"},\"yaxis\":{\"backgroundcolor\":\"#E5ECF6\",\"gridcolor\":\"white\",\"gridwidth\":2,\"linecolor\":\"white\",\"showbackground\":true,\"ticks\":\"\",\"zerolinecolor\":\"white\"},\"zaxis\":{\"backgroundcolor\":\"#E5ECF6\",\"gridcolor\":\"white\",\"gridwidth\":2,\"linecolor\":\"white\",\"showbackground\":true,\"ticks\":\"\",\"zerolinecolor\":\"white\"}},\"shapedefaults\":{\"line\":{\"color\":\"#2a3f5f\"}},\"ternary\":{\"aaxis\":{\"gridcolor\":\"white\",\"linecolor\":\"white\",\"ticks\":\"\"},\"baxis\":{\"gridcolor\":\"white\",\"linecolor\":\"white\",\"ticks\":\"\"},\"bgcolor\":\"#E5ECF6\",\"caxis\":{\"gridcolor\":\"white\",\"linecolor\":\"white\",\"ticks\":\"\"}},\"title\":{\"x\":0.05},\"xaxis\":{\"automargin\":true,\"gridcolor\":\"white\",\"linecolor\":\"white\",\"ticks\":\"\",\"title\":{\"standoff\":15},\"zerolinecolor\":\"white\",\"zerolinewidth\":2},\"yaxis\":{\"automargin\":true,\"gridcolor\":\"white\",\"linecolor\":\"white\",\"ticks\":\"\",\"title\":{\"standoff\":15},\"zerolinecolor\":\"white\",\"zerolinewidth\":2}}},\"xaxis\":{\"anchor\":\"y\",\"domain\":[0.0,1.0],\"title\":{\"text\":\"Club Name\"}},\"yaxis\":{\"anchor\":\"x\",\"domain\":[0.0,1.0],\"title\":{\"text\":\"Goals\"}},\"coloraxis\":{\"colorbar\":{\"title\":{\"text\":\"color\"}},\"colorscale\":[[0.0,\"rgb(75, 41, 145)\"],[0.16666666666666666,\"rgb(135, 44, 162)\"],[0.3333333333333333,\"rgb(192, 54, 157)\"],[0.5,\"rgb(234, 79, 136)\"],[0.6666666666666666,\"rgb(250, 120, 118)\"],[0.8333333333333334,\"rgb(246, 169, 122)\"],[1.0,\"rgb(237, 217, 163)\"]],\"showscale\":false},\"legend\":{\"tracegroupgap\":0},\"title\":{\"text\":\"Top Goalscoring Clubs\"},\"barmode\":\"relative\"},                        {\"responsive\": true}                    ).then(function(){\n",
       "                            \n",
       "var gd = document.getElementById('eb7a0579-3b95-4a3b-bab8-5c8075608291');\n",
       "var x = new MutationObserver(function (mutations, observer) {{\n",
       "        var display = window.getComputedStyle(gd).display;\n",
       "        if (!display || display === 'none') {{\n",
       "            console.log([gd, 'removed!']);\n",
       "            Plotly.purge(gd);\n",
       "            observer.disconnect();\n",
       "        }}\n",
       "}});\n",
       "\n",
       "// Listen for the removal of the full notebook cells\n",
       "var notebookContainer = gd.closest('#notebook-container');\n",
       "if (notebookContainer) {{\n",
       "    x.observe(notebookContainer, {childList: true});\n",
       "}}\n",
       "\n",
       "// Listen for the clearing of the current output cell\n",
       "var outputEl = gd.closest('.output');\n",
       "if (outputEl) {{\n",
       "    x.observe(outputEl, {childList: true});\n",
       "}}\n",
       "\n",
       "                        })                };                });            </script>        </div>"
      ]
     },
     "metadata": {},
     "output_type": "display_data"
    }
   ],
   "source": [
    "top_goals_club_bar = px.bar(x=top_goals_club.club,\n",
    "                      y=top_goals_club.goals,\n",
    "                      title=\"Top Goalscoring Clubs\",\n",
    "                      hover_name=top_goals_club.club,\n",
    "                      color=top_goals_club.goals,\n",
    "                      color_continuous_scale='Agsunset')\n",
    "\n",
    "top_goals_club_bar.update_layout(xaxis_title=\"Club Name\",\n",
    "                           yaxis_title=\"Goals\",\n",
    "                           coloraxis_showscale=False)\n",
    "\n",
    "top_goals_club_bar.show()"
   ]
  },
  {
   "cell_type": "code",
   "execution_count": 39,
   "id": "efd48e22",
   "metadata": {},
   "outputs": [
    {
     "data": {
      "text/html": [
       "<div>\n",
       "<style scoped>\n",
       "    .dataframe tbody tr th:only-of-type {\n",
       "        vertical-align: middle;\n",
       "    }\n",
       "\n",
       "    .dataframe tbody tr th {\n",
       "        vertical-align: top;\n",
       "    }\n",
       "\n",
       "    .dataframe thead th {\n",
       "        text-align: right;\n",
       "    }\n",
       "</style>\n",
       "<table border=\"1\" class=\"dataframe\">\n",
       "  <thead>\n",
       "    <tr style=\"text-align: right;\">\n",
       "      <th></th>\n",
       "      <th>club</th>\n",
       "      <th>position</th>\n",
       "      <th>player_name</th>\n",
       "      <th>goals</th>\n",
       "    </tr>\n",
       "  </thead>\n",
       "  <tbody>\n",
       "    <tr>\n",
       "      <th>128</th>\n",
       "      <td>Real Madrid</td>\n",
       "      <td>Forward</td>\n",
       "      <td>Benzema</td>\n",
       "      <td>15</td>\n",
       "    </tr>\n",
       "    <tr>\n",
       "      <th>27</th>\n",
       "      <td>Bayern</td>\n",
       "      <td>Forward</td>\n",
       "      <td>Lewandowski</td>\n",
       "      <td>13</td>\n",
       "    </tr>\n",
       "    <tr>\n",
       "      <th>3</th>\n",
       "      <td>Ajax</td>\n",
       "      <td>Forward</td>\n",
       "      <td>Haller</td>\n",
       "      <td>11</td>\n",
       "    </tr>\n",
       "    <tr>\n",
       "      <th>88</th>\n",
       "      <td>Liverpool</td>\n",
       "      <td>Forward</td>\n",
       "      <td>Salah</td>\n",
       "      <td>8</td>\n",
       "    </tr>\n",
       "    <tr>\n",
       "      <th>105</th>\n",
       "      <td>Man. City</td>\n",
       "      <td>Midfielder</td>\n",
       "      <td>Mahrez</td>\n",
       "      <td>7</td>\n",
       "    </tr>\n",
       "    <tr>\n",
       "      <th>...</th>\n",
       "      <td>...</td>\n",
       "      <td>...</td>\n",
       "      <td>...</td>\n",
       "      <td>...</td>\n",
       "    </tr>\n",
       "    <tr>\n",
       "      <th>62</th>\n",
       "      <td>Inter</td>\n",
       "      <td>Defender</td>\n",
       "      <td>Škriniar</td>\n",
       "      <td>1</td>\n",
       "    </tr>\n",
       "    <tr>\n",
       "      <th>61</th>\n",
       "      <td>Inter</td>\n",
       "      <td>Defender</td>\n",
       "      <td>De Vrij</td>\n",
       "      <td>1</td>\n",
       "    </tr>\n",
       "    <tr>\n",
       "      <th>60</th>\n",
       "      <td>Dynamo Kyiv</td>\n",
       "      <td>Midfielder</td>\n",
       "      <td>Garmash</td>\n",
       "      <td>1</td>\n",
       "    </tr>\n",
       "    <tr>\n",
       "      <th>58</th>\n",
       "      <td>Dortmund</td>\n",
       "      <td>Midfielder</td>\n",
       "      <td>Bellingham</td>\n",
       "      <td>1</td>\n",
       "    </tr>\n",
       "    <tr>\n",
       "      <th>182</th>\n",
       "      <td>Zenit</td>\n",
       "      <td>Midfielder</td>\n",
       "      <td>Wendel</td>\n",
       "      <td>1</td>\n",
       "    </tr>\n",
       "  </tbody>\n",
       "</table>\n",
       "<p>183 rows × 4 columns</p>\n",
       "</div>"
      ],
      "text/plain": [
       "            club    position  player_name  goals\n",
       "128  Real Madrid     Forward      Benzema     15\n",
       "27        Bayern     Forward  Lewandowski     13\n",
       "3           Ajax     Forward       Haller     11\n",
       "88     Liverpool     Forward        Salah      8\n",
       "105    Man. City  Midfielder       Mahrez      7\n",
       "..           ...         ...          ...    ...\n",
       "62         Inter    Defender     Škriniar      1\n",
       "61         Inter    Defender      De Vrij      1\n",
       "60   Dynamo Kyiv  Midfielder      Garmash      1\n",
       "58      Dortmund  Midfielder   Bellingham      1\n",
       "182        Zenit  Midfielder       Wendel      1\n",
       "\n",
       "[183 rows x 4 columns]"
      ]
     },
     "execution_count": 39,
     "metadata": {},
     "output_type": "execute_result"
    }
   ],
   "source": [
    "goals_by_club = df_goals.groupby(by=['club','position','player_name'], as_index=False).agg({'goals': pd.Series.sum})\n",
    " \n",
    "goals_by_club = goals_by_club.sort_values('goals', ascending=False)\n",
    "goals_by_club"
   ]
  },
  {
   "cell_type": "code",
   "execution_count": 40,
   "id": "8a2a174c",
   "metadata": {},
   "outputs": [
    {
     "name": "stderr",
     "output_type": "stream",
     "text": [
      "F:\\Anaconda\\lib\\site-packages\\plotly\\express\\_core.py:1637: FutureWarning:\n",
      "\n",
      "The frame.append method is deprecated and will be removed from pandas in a future version. Use pandas.concat instead.\n",
      "\n",
      "F:\\Anaconda\\lib\\site-packages\\plotly\\express\\_core.py:1637: FutureWarning:\n",
      "\n",
      "The frame.append method is deprecated and will be removed from pandas in a future version. Use pandas.concat instead.\n",
      "\n",
      "F:\\Anaconda\\lib\\site-packages\\plotly\\express\\_core.py:1637: FutureWarning:\n",
      "\n",
      "The frame.append method is deprecated and will be removed from pandas in a future version. Use pandas.concat instead.\n",
      "\n"
     ]
    },
    {
     "data": {
      "application/vnd.plotly.v1+json": {
       "config": {
        "plotlyServerURL": "https://plot.ly"
       },
       "data": [
        {
         "branchvalues": "total",
         "domain": {
          "x": [
           0,
           1
          ],
          "y": [
           0,
           1
          ]
         },
         "hovertemplate": "labels=%{label}<br>goals=%{value}<br>parent=%{parent}<br>id=%{id}<extra></extra>",
         "ids": [
          "Salzburg/Forward/Adamu",
          "Salzburg/Forward/Adeyemi",
          "Man. City/Defender/Aké",
          "Real Madrid/Defender/Alaba",
          "Villarreal/Forward/Alcácer",
          "Juventus/Defender/Alex Sandro",
          "Man. United/Defender/Alex Telles",
          "Inter/Forward/Alexis Sánchez",
          "Leipzig/Forward/André Silva",
          "Ajax/Forward/Antony",
          "Real Madrid/Forward/Asensio",
          "Zenit/Forward/Azmoun",
          "Chelsea/Defender/Azpilicueta",
          "Wolfsburg/Midfielder/Baku",
          "Dortmund/Midfielder/Bellingham",
          "Real Madrid/Forward/Benzema",
          "Ajax/Forward/Berghuis",
          "Man. City/Midfielder/Bernardo Silva",
          "Ajax/Defender/Blind",
          "Milan/Midfielder/Brahim Díaz",
          "Inter/Midfielder/Brozović",
          "Sporting CP/Midfielder/Bruno Tabata",
          "LOSC/Forward/Burak Yılmaz",
          "Villarreal/Midfielder/Capoue",
          "Chelsea/Defender/Chalobah",
          "Juventus/Forward/Chiesa",
          "Bayern/Midfielder/Choupo-Moting",
          "Chelsea/Defender/Christensen",
          "Villarreal/Midfielder/Chukwueze",
          "Zenit/Midfielder/Claudinho",
          "Sporting CP/Defender/Coates",
          "Bayern/Forward/Coman",
          "Villarreal/Midfielder/Coquelin",
          "Atlético/Forward/Correa",
          "Villarreal/Midfielder/Danjuma",
          "LOSC/Forward/David",
          "Man. City/Midfielder/De Bruyne",
          "Atlético/Midfielder/De Paul",
          "Inter/Defender/De Vrij",
          "Atalanta/Defender/Demiral",
          "Villarreal/Forward/Dia",
          "Liverpool/Forward/Diogo Jota",
          "Juventus/Forward/Dybala",
          "Inter/Forward/Džeko",
          "Man. United/Forward/Elanga",
          "Young Boys/Forward/Elia",
          "Liverpool/Midfielder/Fabinho",
          "Barcelona/Forward/Fati",
          "Shakhtar Donetsk/Midfielder/Fernando",
          "Liverpool/Midfielder/Firmino",
          "Man. City/Midfielder/Foden",
          "Leipzig/Forward/Forsberg",
          "Atalanta/Midfielder/Freuler",
          "Dynamo Kyiv/Midfielder/Garmash",
          "Villarreal/Forward/Gerard Moreno",
          "Beşiktaş/Midfielder/Ghezzal",
          "Benfica/Defender/Gilberto",
          "Bayern/Forward/Gnabry",
          "LOSC/Midfielder/Gomes",
          "Benfica/Forward/Gonçalo Ramos",
          "Atalanta/Midfielder/Gosens",
          "Man. City/Midfielder/Grealish",
          "Man. United/Forward/Greenwood",
          "Atlético/Forward/Griezmann",
          "Paris/Midfielder/Gueye",
          "Dortmund/Forward/Haaland",
          "Ajax/Forward/Haller",
          "Chelsea/Midfielder/Havertz",
          "Young Boys/Defender/Hefti",
          "Liverpool/Midfielder/Henderson",
          "Paris/Midfielder/Herrera",
          "Chelsea/Midfielder/Hudson-Odoi",
          "LOSC/Midfielder/Ikoné",
          "Atalanta/Midfielder/Iličić",
          "Chelsea/Defender/James",
          "Man. City/Forward/Jesus",
          "Sevilla/Midfielder/Jordán",
          "Chelsea/Midfielder/Jorginho",
          "Man. City/Defender/João Cancelo",
          "Atlético/Forward/João Félix",
          "Juventus/Forward/Kean",
          "Liverpool/Midfielder/Keïta",
          "Salzburg/Midfielder/Kjærgaard",
          "Ajax/Midfielder/Klaassen",
          "Liverpool/Defender/Konaté",
          "Real Madrid/Midfielder/Kroos",
          "Juventus/Midfielder/Kulusevski",
          "Zenit/Midfielder/Kuzyaev",
          "Wolfsburg/Forward/L. Nmecha",
          "Beşiktaş/Forward/Larin",
          "Bayern/Forward/Lewandowski",
          "Liverpool/Forward/Luis Díaz",
          "Atlético/Forward/Luis Suárez",
          "Chelsea/Forward/Lukaku",
          "Man. United/Defender/Maguire",
          "Man. City/Midfielder/Mahrez",
          "Dortmund/Forward/Malen",
          "Atalanta/Midfielder/Malinovskyi",
          "Liverpool/Midfielder/Mané",
          "Inter/Forward/Martínez",
          "Paris/Forward/Mbappé",
          "Paris/Forward/Messi",
          "Milan/Forward/Messias Junior",
          "Beşiktaş/Defender/Montero",
          "Juventus/Forward/Morata",
          "Benfica/Defender/Morato",
          "Villarreal/Defender/Moreno",
          "Young Boys/Midfielder/Moumi Ngamaleu",
          "Chelsea/Midfielder/Mount",
          "Leipzig/Defender/Mukiele",
          "Atalanta/Forward/Muriel",
          "Bayern/Midfielder/Musiala",
          "Bayern/Forward/Müller",
          "Ajax/Forward/Neres",
          "Sheriff/Midfielder/Nikolov",
          "Leipzig/Midfielder/Nkunku",
          "Sporting CP/Forward/Nuno Santos",
          "Benfica/Forward/Núñez",
          "Sevilla/Midfielder/Ocampos",
          "Salzburg/Midfielder/Okafor",
          "Liverpool/Forward/Origi",
          "Zenit/Midfielder/Ozdoev",
          "Man. City/Midfielder/Palmer",
          "Atalanta/Defender/Palomino",
          "Villarreal/Midfielder/Parejo",
          "Villarreal/Defender/Pau Torres",
          "Sporting CP/Forward/Paulinho",
          "Atalanta/Midfielder/Pašalić",
          "Sporting CP/Midfielder/Pedro Gonçalves",
          "Sporting CP/Defender/Pedro Porro",
          "Atalanta/Midfielder/Pessina",
          "Villarreal/Forward/Pino",
          "Barcelona/Defender/Piqué",
          "Chelsea/Midfielder/Pulišić",
          "Sevilla/Forward/Rafa Mir",
          "Benfica/Forward/Rafa Silva",
          "Milan/Forward/Rafael Leão",
          "Sevilla/Midfielder/Rakitić",
          "Zenit/Defender/Rakitskyy",
          "Man. United/Forward/Rashford",
          "Milan/Forward/Rebić",
          "Atlético/Defender/Renan Lodi",
          "Dortmund/Midfielder/Reus",
          "Young Boys/Midfielder/Rieder",
          "Malmö/Midfielder/Rieks",
          "Club Brugge/Midfielder/Rits",
          "Real Madrid/Forward/Rodrygo",
          "Man. United/Forward/Ronaldo",
          "Chelsea/Defender/Rüdiger",
          "Sheriff/Midfielder/S. Thill",
          "Liverpool/Forward/Salah",
          "Man. United/Midfielder/Sancho",
          "Bayern/Midfielder/Sané",
          "Sporting CP/Forward/Sarabia",
          "Young Boys/Forward/Siebatcheu",
          "Young Boys/Midfielder/Sierro",
          "Wolfsburg/Midfielder/Steffen",
          "Man. City/Forward/Sterling",
          "Zenit/Midfielder/Sutormin",
          "Salzburg/Midfielder/Sučić",
          "Leipzig/Midfielder/Szoboszlai",
          "Porto/Midfielder/Sérgio Oliveira",
          "Ajax/Forward/Tadić",
          "Porto/Forward/Taremi",
          "Liverpool/Midfielder/Thiago Alcántara",
          "Milan/Defender/Tomori",
          "Sheriff/Midfielder/Traore",
          "Villarreal/Midfielder/Trigueros",
          "Club Brugge/Midfielder/Vanaken",
          "Inter/Midfielder/Vidal",
          "Real Madrid/Forward/Vinícius Júnior",
          "Juventus/Forward/Vlahović",
          "Man. City/Defender/Walker",
          "Zenit/Midfielder/Wendel",
          "Chelsea/Forward/Werner",
          "Paris/Midfielder/Wijnaldum",
          "Salzburg/Defender/Wöber",
          "Sheriff/Forward/Yakhshiboev",
          "Sheriff/Forward/Yansané",
          "Benfica/Forward/Yaremchuk",
          "Atalanta/Forward/Zapata",
          "Chelsea/Midfielder/Ziyech",
          "Inter/Defender/Škriniar",
          "Ajax/Defender",
          "Atalanta/Defender",
          "Atlético/Defender",
          "Barcelona/Defender",
          "Benfica/Defender",
          "Beşiktaş/Defender",
          "Chelsea/Defender",
          "Inter/Defender",
          "Juventus/Defender",
          "Leipzig/Defender",
          "Liverpool/Defender",
          "Man. City/Defender",
          "Man. United/Defender",
          "Milan/Defender",
          "Real Madrid/Defender",
          "Salzburg/Defender",
          "Sporting CP/Defender",
          "Villarreal/Defender",
          "Young Boys/Defender",
          "Zenit/Defender",
          "Ajax/Forward",
          "Atalanta/Forward",
          "Atlético/Forward",
          "Barcelona/Forward",
          "Bayern/Forward",
          "Benfica/Forward",
          "Beşiktaş/Forward",
          "Chelsea/Forward",
          "Dortmund/Forward",
          "Inter/Forward",
          "Juventus/Forward",
          "LOSC/Forward",
          "Leipzig/Forward",
          "Liverpool/Forward",
          "Man. City/Forward",
          "Man. United/Forward",
          "Milan/Forward",
          "Paris/Forward",
          "Porto/Forward",
          "Real Madrid/Forward",
          "Salzburg/Forward",
          "Sevilla/Forward",
          "Sheriff/Forward",
          "Sporting CP/Forward",
          "Villarreal/Forward",
          "Wolfsburg/Forward",
          "Young Boys/Forward",
          "Zenit/Forward",
          "Ajax/Midfielder",
          "Atalanta/Midfielder",
          "Atlético/Midfielder",
          "Bayern/Midfielder",
          "Beşiktaş/Midfielder",
          "Chelsea/Midfielder",
          "Club Brugge/Midfielder",
          "Dortmund/Midfielder",
          "Dynamo Kyiv/Midfielder",
          "Inter/Midfielder",
          "Juventus/Midfielder",
          "LOSC/Midfielder",
          "Leipzig/Midfielder",
          "Liverpool/Midfielder",
          "Malmö/Midfielder",
          "Man. City/Midfielder",
          "Man. United/Midfielder",
          "Milan/Midfielder",
          "Paris/Midfielder",
          "Porto/Midfielder",
          "Real Madrid/Midfielder",
          "Salzburg/Midfielder",
          "Sevilla/Midfielder",
          "Shakhtar Donetsk/Midfielder",
          "Sheriff/Midfielder",
          "Sporting CP/Midfielder",
          "Villarreal/Midfielder",
          "Wolfsburg/Midfielder",
          "Young Boys/Midfielder",
          "Zenit/Midfielder",
          "Ajax",
          "Atalanta",
          "Atlético",
          "Barcelona",
          "Bayern",
          "Benfica",
          "Beşiktaş",
          "Chelsea",
          "Club Brugge",
          "Dortmund",
          "Dynamo Kyiv",
          "Inter",
          "Juventus",
          "LOSC",
          "Leipzig",
          "Liverpool",
          "Malmö",
          "Man. City",
          "Man. United",
          "Milan",
          "Paris",
          "Porto",
          "Real Madrid",
          "Salzburg",
          "Sevilla",
          "Shakhtar Donetsk",
          "Sheriff",
          "Sporting CP",
          "Villarreal",
          "Wolfsburg",
          "Young Boys",
          "Zenit"
         ],
         "labels": [
          "Adamu",
          "Adeyemi",
          "Aké",
          "Alaba",
          "Alcácer",
          "Alex Sandro",
          "Alex Telles",
          "Alexis Sánchez",
          "André Silva",
          "Antony",
          "Asensio",
          "Azmoun",
          "Azpilicueta",
          "Baku",
          "Bellingham",
          "Benzema",
          "Berghuis",
          "Bernardo Silva",
          "Blind",
          "Brahim Díaz",
          "Brozović",
          "Bruno Tabata",
          "Burak Yılmaz",
          "Capoue",
          "Chalobah",
          "Chiesa",
          "Choupo-Moting",
          "Christensen",
          "Chukwueze",
          "Claudinho",
          "Coates",
          "Coman",
          "Coquelin",
          "Correa",
          "Danjuma",
          "David",
          "De Bruyne",
          "De Paul",
          "De Vrij",
          "Demiral",
          "Dia",
          "Diogo Jota",
          "Dybala",
          "Džeko",
          "Elanga",
          "Elia",
          "Fabinho",
          "Fati",
          "Fernando",
          "Firmino",
          "Foden",
          "Forsberg",
          "Freuler",
          "Garmash",
          "Gerard Moreno",
          "Ghezzal",
          "Gilberto",
          "Gnabry",
          "Gomes",
          "Gonçalo Ramos",
          "Gosens",
          "Grealish",
          "Greenwood",
          "Griezmann",
          "Gueye",
          "Haaland",
          "Haller",
          "Havertz",
          "Hefti",
          "Henderson",
          "Herrera",
          "Hudson-Odoi",
          "Ikoné",
          "Iličić",
          "James",
          "Jesus",
          "Jordán",
          "Jorginho",
          "João Cancelo",
          "João Félix",
          "Kean",
          "Keïta",
          "Kjærgaard",
          "Klaassen",
          "Konaté",
          "Kroos",
          "Kulusevski",
          "Kuzyaev",
          "L. Nmecha",
          "Larin",
          "Lewandowski",
          "Luis Díaz",
          "Luis Suárez",
          "Lukaku",
          "Maguire",
          "Mahrez",
          "Malen",
          "Malinovskyi",
          "Mané",
          "Martínez",
          "Mbappé",
          "Messi",
          "Messias Junior",
          "Montero",
          "Morata",
          "Morato",
          "Moreno",
          "Moumi Ngamaleu",
          "Mount",
          "Mukiele",
          "Muriel",
          "Musiala",
          "Müller",
          "Neres",
          "Nikolov",
          "Nkunku",
          "Nuno Santos",
          "Núñez",
          "Ocampos",
          "Okafor",
          "Origi",
          "Ozdoev",
          "Palmer",
          "Palomino",
          "Parejo",
          "Pau Torres",
          "Paulinho",
          "Pašalić",
          "Pedro Gonçalves",
          "Pedro Porro",
          "Pessina",
          "Pino",
          "Piqué",
          "Pulišić",
          "Rafa Mir",
          "Rafa Silva",
          "Rafael Leão",
          "Rakitić",
          "Rakitskyy",
          "Rashford",
          "Rebić",
          "Renan Lodi",
          "Reus",
          "Rieder",
          "Rieks",
          "Rits",
          "Rodrygo",
          "Ronaldo",
          "Rüdiger",
          "S. Thill",
          "Salah",
          "Sancho",
          "Sané",
          "Sarabia",
          "Siebatcheu",
          "Sierro",
          "Steffen",
          "Sterling",
          "Sutormin",
          "Sučić",
          "Szoboszlai",
          "Sérgio Oliveira",
          "Tadić",
          "Taremi",
          "Thiago Alcántara",
          "Tomori",
          "Traore",
          "Trigueros",
          "Vanaken",
          "Vidal",
          "Vinícius Júnior",
          "Vlahović",
          "Walker",
          "Wendel",
          "Werner",
          "Wijnaldum",
          "Wöber",
          "Yakhshiboev",
          "Yansané",
          "Yaremchuk",
          "Zapata",
          "Ziyech",
          "Škriniar",
          "Defender",
          "Defender",
          "Defender",
          "Defender",
          "Defender",
          "Defender",
          "Defender",
          "Defender",
          "Defender",
          "Defender",
          "Defender",
          "Defender",
          "Defender",
          "Defender",
          "Defender",
          "Defender",
          "Defender",
          "Defender",
          "Defender",
          "Defender",
          "Forward",
          "Forward",
          "Forward",
          "Forward",
          "Forward",
          "Forward",
          "Forward",
          "Forward",
          "Forward",
          "Forward",
          "Forward",
          "Forward",
          "Forward",
          "Forward",
          "Forward",
          "Forward",
          "Forward",
          "Forward",
          "Forward",
          "Forward",
          "Forward",
          "Forward",
          "Forward",
          "Forward",
          "Forward",
          "Forward",
          "Forward",
          "Forward",
          "Midfielder",
          "Midfielder",
          "Midfielder",
          "Midfielder",
          "Midfielder",
          "Midfielder",
          "Midfielder",
          "Midfielder",
          "Midfielder",
          "Midfielder",
          "Midfielder",
          "Midfielder",
          "Midfielder",
          "Midfielder",
          "Midfielder",
          "Midfielder",
          "Midfielder",
          "Midfielder",
          "Midfielder",
          "Midfielder",
          "Midfielder",
          "Midfielder",
          "Midfielder",
          "Midfielder",
          "Midfielder",
          "Midfielder",
          "Midfielder",
          "Midfielder",
          "Midfielder",
          "Midfielder",
          "Ajax",
          "Atalanta",
          "Atlético",
          "Barcelona",
          "Bayern",
          "Benfica",
          "Beşiktaş",
          "Chelsea",
          "Club Brugge",
          "Dortmund",
          "Dynamo Kyiv",
          "Inter",
          "Juventus",
          "LOSC",
          "Leipzig",
          "Liverpool",
          "Malmö",
          "Man. City",
          "Man. United",
          "Milan",
          "Paris",
          "Porto",
          "Real Madrid",
          "Salzburg",
          "Sevilla",
          "Shakhtar Donetsk",
          "Sheriff",
          "Sporting CP",
          "Villarreal",
          "Wolfsburg",
          "Young Boys",
          "Zenit"
         ],
         "name": "",
         "parents": [
          "Salzburg/Forward",
          "Salzburg/Forward",
          "Man. City/Defender",
          "Real Madrid/Defender",
          "Villarreal/Forward",
          "Juventus/Defender",
          "Man. United/Defender",
          "Inter/Forward",
          "Leipzig/Forward",
          "Ajax/Forward",
          "Real Madrid/Forward",
          "Zenit/Forward",
          "Chelsea/Defender",
          "Wolfsburg/Midfielder",
          "Dortmund/Midfielder",
          "Real Madrid/Forward",
          "Ajax/Forward",
          "Man. City/Midfielder",
          "Ajax/Defender",
          "Milan/Midfielder",
          "Inter/Midfielder",
          "Sporting CP/Midfielder",
          "LOSC/Forward",
          "Villarreal/Midfielder",
          "Chelsea/Defender",
          "Juventus/Forward",
          "Bayern/Midfielder",
          "Chelsea/Defender",
          "Villarreal/Midfielder",
          "Zenit/Midfielder",
          "Sporting CP/Defender",
          "Bayern/Forward",
          "Villarreal/Midfielder",
          "Atlético/Forward",
          "Villarreal/Midfielder",
          "LOSC/Forward",
          "Man. City/Midfielder",
          "Atlético/Midfielder",
          "Inter/Defender",
          "Atalanta/Defender",
          "Villarreal/Forward",
          "Liverpool/Forward",
          "Juventus/Forward",
          "Inter/Forward",
          "Man. United/Forward",
          "Young Boys/Forward",
          "Liverpool/Midfielder",
          "Barcelona/Forward",
          "Shakhtar Donetsk/Midfielder",
          "Liverpool/Midfielder",
          "Man. City/Midfielder",
          "Leipzig/Forward",
          "Atalanta/Midfielder",
          "Dynamo Kyiv/Midfielder",
          "Villarreal/Forward",
          "Beşiktaş/Midfielder",
          "Benfica/Defender",
          "Bayern/Forward",
          "LOSC/Midfielder",
          "Benfica/Forward",
          "Atalanta/Midfielder",
          "Man. City/Midfielder",
          "Man. United/Forward",
          "Atlético/Forward",
          "Paris/Midfielder",
          "Dortmund/Forward",
          "Ajax/Forward",
          "Chelsea/Midfielder",
          "Young Boys/Defender",
          "Liverpool/Midfielder",
          "Paris/Midfielder",
          "Chelsea/Midfielder",
          "LOSC/Midfielder",
          "Atalanta/Midfielder",
          "Chelsea/Defender",
          "Man. City/Forward",
          "Sevilla/Midfielder",
          "Chelsea/Midfielder",
          "Man. City/Defender",
          "Atlético/Forward",
          "Juventus/Forward",
          "Liverpool/Midfielder",
          "Salzburg/Midfielder",
          "Ajax/Midfielder",
          "Liverpool/Defender",
          "Real Madrid/Midfielder",
          "Juventus/Midfielder",
          "Zenit/Midfielder",
          "Wolfsburg/Forward",
          "Beşiktaş/Forward",
          "Bayern/Forward",
          "Liverpool/Forward",
          "Atlético/Forward",
          "Chelsea/Forward",
          "Man. United/Defender",
          "Man. City/Midfielder",
          "Dortmund/Forward",
          "Atalanta/Midfielder",
          "Liverpool/Midfielder",
          "Inter/Forward",
          "Paris/Forward",
          "Paris/Forward",
          "Milan/Forward",
          "Beşiktaş/Defender",
          "Juventus/Forward",
          "Benfica/Defender",
          "Villarreal/Defender",
          "Young Boys/Midfielder",
          "Chelsea/Midfielder",
          "Leipzig/Defender",
          "Atalanta/Forward",
          "Bayern/Midfielder",
          "Bayern/Forward",
          "Ajax/Forward",
          "Sheriff/Midfielder",
          "Leipzig/Midfielder",
          "Sporting CP/Forward",
          "Benfica/Forward",
          "Sevilla/Midfielder",
          "Salzburg/Midfielder",
          "Liverpool/Forward",
          "Zenit/Midfielder",
          "Man. City/Midfielder",
          "Atalanta/Defender",
          "Villarreal/Midfielder",
          "Villarreal/Defender",
          "Sporting CP/Forward",
          "Atalanta/Midfielder",
          "Sporting CP/Midfielder",
          "Sporting CP/Defender",
          "Atalanta/Midfielder",
          "Villarreal/Forward",
          "Barcelona/Defender",
          "Chelsea/Midfielder",
          "Sevilla/Forward",
          "Benfica/Forward",
          "Milan/Forward",
          "Sevilla/Midfielder",
          "Zenit/Defender",
          "Man. United/Forward",
          "Milan/Forward",
          "Atlético/Defender",
          "Dortmund/Midfielder",
          "Young Boys/Midfielder",
          "Malmö/Midfielder",
          "Club Brugge/Midfielder",
          "Real Madrid/Forward",
          "Man. United/Forward",
          "Chelsea/Defender",
          "Sheriff/Midfielder",
          "Liverpool/Forward",
          "Man. United/Midfielder",
          "Bayern/Midfielder",
          "Sporting CP/Forward",
          "Young Boys/Forward",
          "Young Boys/Midfielder",
          "Wolfsburg/Midfielder",
          "Man. City/Forward",
          "Zenit/Midfielder",
          "Salzburg/Midfielder",
          "Leipzig/Midfielder",
          "Porto/Midfielder",
          "Ajax/Forward",
          "Porto/Forward",
          "Liverpool/Midfielder",
          "Milan/Defender",
          "Sheriff/Midfielder",
          "Villarreal/Midfielder",
          "Club Brugge/Midfielder",
          "Inter/Midfielder",
          "Real Madrid/Forward",
          "Juventus/Forward",
          "Man. City/Defender",
          "Zenit/Midfielder",
          "Chelsea/Forward",
          "Paris/Midfielder",
          "Salzburg/Defender",
          "Sheriff/Forward",
          "Sheriff/Forward",
          "Benfica/Forward",
          "Atalanta/Forward",
          "Chelsea/Midfielder",
          "Inter/Defender",
          "Ajax",
          "Atalanta",
          "Atlético",
          "Barcelona",
          "Benfica",
          "Beşiktaş",
          "Chelsea",
          "Inter",
          "Juventus",
          "Leipzig",
          "Liverpool",
          "Man. City",
          "Man. United",
          "Milan",
          "Real Madrid",
          "Salzburg",
          "Sporting CP",
          "Villarreal",
          "Young Boys",
          "Zenit",
          "Ajax",
          "Atalanta",
          "Atlético",
          "Barcelona",
          "Bayern",
          "Benfica",
          "Beşiktaş",
          "Chelsea",
          "Dortmund",
          "Inter",
          "Juventus",
          "LOSC",
          "Leipzig",
          "Liverpool",
          "Man. City",
          "Man. United",
          "Milan",
          "Paris",
          "Porto",
          "Real Madrid",
          "Salzburg",
          "Sevilla",
          "Sheriff",
          "Sporting CP",
          "Villarreal",
          "Wolfsburg",
          "Young Boys",
          "Zenit",
          "Ajax",
          "Atalanta",
          "Atlético",
          "Bayern",
          "Beşiktaş",
          "Chelsea",
          "Club Brugge",
          "Dortmund",
          "Dynamo Kyiv",
          "Inter",
          "Juventus",
          "LOSC",
          "Leipzig",
          "Liverpool",
          "Malmö",
          "Man. City",
          "Man. United",
          "Milan",
          "Paris",
          "Porto",
          "Real Madrid",
          "Salzburg",
          "Sevilla",
          "Shakhtar Donetsk",
          "Sheriff",
          "Sporting CP",
          "Villarreal",
          "Wolfsburg",
          "Young Boys",
          "Zenit",
          "",
          "",
          "",
          "",
          "",
          "",
          "",
          "",
          "",
          "",
          "",
          "",
          "",
          "",
          "",
          "",
          "",
          "",
          "",
          "",
          "",
          "",
          "",
          "",
          "",
          "",
          "",
          "",
          "",
          "",
          "",
          ""
         ],
         "type": "sunburst",
         "values": [
          1,
          3,
          1,
          1,
          1,
          1,
          1,
          1,
          3,
          2,
          1,
          2,
          1,
          1,
          1,
          15,
          3,
          3,
          1,
          1,
          1,
          1,
          3,
          2,
          1,
          2,
          1,
          1,
          2,
          2,
          2,
          2,
          1,
          1,
          6,
          3,
          2,
          1,
          1,
          1,
          1,
          1,
          3,
          3,
          1,
          1,
          1,
          1,
          2,
          5,
          3,
          2,
          1,
          1,
          2,
          1,
          1,
          3,
          1,
          1,
          1,
          1,
          1,
          4,
          1,
          3,
          11,
          3,
          1,
          1,
          1,
          1,
          1,
          1,
          1,
          4,
          1,
          2,
          2,
          1,
          1,
          1,
          1,
          1,
          2,
          2,
          1,
          1,
          2,
          1,
          13,
          4,
          1,
          2,
          1,
          7,
          3,
          1,
          5,
          1,
          6,
          5,
          1,
          1,
          2,
          1,
          1,
          1,
          1,
          1,
          1,
          1,
          4,
          1,
          1,
          7,
          1,
          6,
          1,
          3,
          1,
          1,
          1,
          1,
          1,
          1,
          3,
          1,
          4,
          1,
          1,
          1,
          1,
          2,
          1,
          1,
          1,
          2,
          1,
          1,
          1,
          1,
          3,
          1,
          1,
          2,
          5,
          6,
          1,
          2,
          8,
          1,
          6,
          2,
          2,
          1,
          2,
          3,
          1,
          1,
          2,
          1,
          2,
          1,
          1,
          1,
          2,
          1,
          3,
          1,
          4,
          1,
          1,
          1,
          4,
          2,
          1,
          1,
          1,
          3,
          3,
          1,
          1,
          1,
          2,
          1,
          1,
          2,
          1,
          5,
          2,
          1,
          1,
          2,
          4,
          2,
          1,
          1,
          1,
          3,
          2,
          1,
          1,
          19,
          4,
          7,
          1,
          22,
          11,
          1,
          6,
          6,
          5,
          9,
          6,
          5,
          14,
          7,
          9,
          3,
          11,
          1,
          25,
          4,
          1,
          2,
          6,
          5,
          2,
          3,
          2,
          1,
          6,
          1,
          8,
          1,
          10,
          5,
          4,
          1,
          2,
          1,
          2,
          9,
          14,
          1,
          17,
          1,
          1,
          4,
          1,
          2,
          5,
          4,
          2,
          5,
          5,
          13,
          3,
          3,
          6,
          21,
          12,
          9,
          2,
          30,
          13,
          3,
          21,
          5,
          10,
          1,
          9,
          11,
          8,
          15,
          30,
          1,
          28,
          12,
          5,
          15,
          2,
          28,
          10,
          5,
          2,
          7,
          14,
          20,
          5,
          7,
          9
         ]
        }
       ],
       "layout": {
        "coloraxis": {
         "showscale": false
        },
        "legend": {
         "tracegroupgap": 0
        },
        "template": {
         "data": {
          "bar": [
           {
            "error_x": {
             "color": "#2a3f5f"
            },
            "error_y": {
             "color": "#2a3f5f"
            },
            "marker": {
             "line": {
              "color": "#E5ECF6",
              "width": 0.5
             },
             "pattern": {
              "fillmode": "overlay",
              "size": 10,
              "solidity": 0.2
             }
            },
            "type": "bar"
           }
          ],
          "barpolar": [
           {
            "marker": {
             "line": {
              "color": "#E5ECF6",
              "width": 0.5
             },
             "pattern": {
              "fillmode": "overlay",
              "size": 10,
              "solidity": 0.2
             }
            },
            "type": "barpolar"
           }
          ],
          "carpet": [
           {
            "aaxis": {
             "endlinecolor": "#2a3f5f",
             "gridcolor": "white",
             "linecolor": "white",
             "minorgridcolor": "white",
             "startlinecolor": "#2a3f5f"
            },
            "baxis": {
             "endlinecolor": "#2a3f5f",
             "gridcolor": "white",
             "linecolor": "white",
             "minorgridcolor": "white",
             "startlinecolor": "#2a3f5f"
            },
            "type": "carpet"
           }
          ],
          "choropleth": [
           {
            "colorbar": {
             "outlinewidth": 0,
             "ticks": ""
            },
            "type": "choropleth"
           }
          ],
          "contour": [
           {
            "colorbar": {
             "outlinewidth": 0,
             "ticks": ""
            },
            "colorscale": [
             [
              0,
              "#0d0887"
             ],
             [
              0.1111111111111111,
              "#46039f"
             ],
             [
              0.2222222222222222,
              "#7201a8"
             ],
             [
              0.3333333333333333,
              "#9c179e"
             ],
             [
              0.4444444444444444,
              "#bd3786"
             ],
             [
              0.5555555555555556,
              "#d8576b"
             ],
             [
              0.6666666666666666,
              "#ed7953"
             ],
             [
              0.7777777777777778,
              "#fb9f3a"
             ],
             [
              0.8888888888888888,
              "#fdca26"
             ],
             [
              1,
              "#f0f921"
             ]
            ],
            "type": "contour"
           }
          ],
          "contourcarpet": [
           {
            "colorbar": {
             "outlinewidth": 0,
             "ticks": ""
            },
            "type": "contourcarpet"
           }
          ],
          "heatmap": [
           {
            "colorbar": {
             "outlinewidth": 0,
             "ticks": ""
            },
            "colorscale": [
             [
              0,
              "#0d0887"
             ],
             [
              0.1111111111111111,
              "#46039f"
             ],
             [
              0.2222222222222222,
              "#7201a8"
             ],
             [
              0.3333333333333333,
              "#9c179e"
             ],
             [
              0.4444444444444444,
              "#bd3786"
             ],
             [
              0.5555555555555556,
              "#d8576b"
             ],
             [
              0.6666666666666666,
              "#ed7953"
             ],
             [
              0.7777777777777778,
              "#fb9f3a"
             ],
             [
              0.8888888888888888,
              "#fdca26"
             ],
             [
              1,
              "#f0f921"
             ]
            ],
            "type": "heatmap"
           }
          ],
          "heatmapgl": [
           {
            "colorbar": {
             "outlinewidth": 0,
             "ticks": ""
            },
            "colorscale": [
             [
              0,
              "#0d0887"
             ],
             [
              0.1111111111111111,
              "#46039f"
             ],
             [
              0.2222222222222222,
              "#7201a8"
             ],
             [
              0.3333333333333333,
              "#9c179e"
             ],
             [
              0.4444444444444444,
              "#bd3786"
             ],
             [
              0.5555555555555556,
              "#d8576b"
             ],
             [
              0.6666666666666666,
              "#ed7953"
             ],
             [
              0.7777777777777778,
              "#fb9f3a"
             ],
             [
              0.8888888888888888,
              "#fdca26"
             ],
             [
              1,
              "#f0f921"
             ]
            ],
            "type": "heatmapgl"
           }
          ],
          "histogram": [
           {
            "marker": {
             "pattern": {
              "fillmode": "overlay",
              "size": 10,
              "solidity": 0.2
             }
            },
            "type": "histogram"
           }
          ],
          "histogram2d": [
           {
            "colorbar": {
             "outlinewidth": 0,
             "ticks": ""
            },
            "colorscale": [
             [
              0,
              "#0d0887"
             ],
             [
              0.1111111111111111,
              "#46039f"
             ],
             [
              0.2222222222222222,
              "#7201a8"
             ],
             [
              0.3333333333333333,
              "#9c179e"
             ],
             [
              0.4444444444444444,
              "#bd3786"
             ],
             [
              0.5555555555555556,
              "#d8576b"
             ],
             [
              0.6666666666666666,
              "#ed7953"
             ],
             [
              0.7777777777777778,
              "#fb9f3a"
             ],
             [
              0.8888888888888888,
              "#fdca26"
             ],
             [
              1,
              "#f0f921"
             ]
            ],
            "type": "histogram2d"
           }
          ],
          "histogram2dcontour": [
           {
            "colorbar": {
             "outlinewidth": 0,
             "ticks": ""
            },
            "colorscale": [
             [
              0,
              "#0d0887"
             ],
             [
              0.1111111111111111,
              "#46039f"
             ],
             [
              0.2222222222222222,
              "#7201a8"
             ],
             [
              0.3333333333333333,
              "#9c179e"
             ],
             [
              0.4444444444444444,
              "#bd3786"
             ],
             [
              0.5555555555555556,
              "#d8576b"
             ],
             [
              0.6666666666666666,
              "#ed7953"
             ],
             [
              0.7777777777777778,
              "#fb9f3a"
             ],
             [
              0.8888888888888888,
              "#fdca26"
             ],
             [
              1,
              "#f0f921"
             ]
            ],
            "type": "histogram2dcontour"
           }
          ],
          "mesh3d": [
           {
            "colorbar": {
             "outlinewidth": 0,
             "ticks": ""
            },
            "type": "mesh3d"
           }
          ],
          "parcoords": [
           {
            "line": {
             "colorbar": {
              "outlinewidth": 0,
              "ticks": ""
             }
            },
            "type": "parcoords"
           }
          ],
          "pie": [
           {
            "automargin": true,
            "type": "pie"
           }
          ],
          "scatter": [
           {
            "marker": {
             "colorbar": {
              "outlinewidth": 0,
              "ticks": ""
             }
            },
            "type": "scatter"
           }
          ],
          "scatter3d": [
           {
            "line": {
             "colorbar": {
              "outlinewidth": 0,
              "ticks": ""
             }
            },
            "marker": {
             "colorbar": {
              "outlinewidth": 0,
              "ticks": ""
             }
            },
            "type": "scatter3d"
           }
          ],
          "scattercarpet": [
           {
            "marker": {
             "colorbar": {
              "outlinewidth": 0,
              "ticks": ""
             }
            },
            "type": "scattercarpet"
           }
          ],
          "scattergeo": [
           {
            "marker": {
             "colorbar": {
              "outlinewidth": 0,
              "ticks": ""
             }
            },
            "type": "scattergeo"
           }
          ],
          "scattergl": [
           {
            "marker": {
             "colorbar": {
              "outlinewidth": 0,
              "ticks": ""
             }
            },
            "type": "scattergl"
           }
          ],
          "scattermapbox": [
           {
            "marker": {
             "colorbar": {
              "outlinewidth": 0,
              "ticks": ""
             }
            },
            "type": "scattermapbox"
           }
          ],
          "scatterpolar": [
           {
            "marker": {
             "colorbar": {
              "outlinewidth": 0,
              "ticks": ""
             }
            },
            "type": "scatterpolar"
           }
          ],
          "scatterpolargl": [
           {
            "marker": {
             "colorbar": {
              "outlinewidth": 0,
              "ticks": ""
             }
            },
            "type": "scatterpolargl"
           }
          ],
          "scatterternary": [
           {
            "marker": {
             "colorbar": {
              "outlinewidth": 0,
              "ticks": ""
             }
            },
            "type": "scatterternary"
           }
          ],
          "surface": [
           {
            "colorbar": {
             "outlinewidth": 0,
             "ticks": ""
            },
            "colorscale": [
             [
              0,
              "#0d0887"
             ],
             [
              0.1111111111111111,
              "#46039f"
             ],
             [
              0.2222222222222222,
              "#7201a8"
             ],
             [
              0.3333333333333333,
              "#9c179e"
             ],
             [
              0.4444444444444444,
              "#bd3786"
             ],
             [
              0.5555555555555556,
              "#d8576b"
             ],
             [
              0.6666666666666666,
              "#ed7953"
             ],
             [
              0.7777777777777778,
              "#fb9f3a"
             ],
             [
              0.8888888888888888,
              "#fdca26"
             ],
             [
              1,
              "#f0f921"
             ]
            ],
            "type": "surface"
           }
          ],
          "table": [
           {
            "cells": {
             "fill": {
              "color": "#EBF0F8"
             },
             "line": {
              "color": "white"
             }
            },
            "header": {
             "fill": {
              "color": "#C8D4E3"
             },
             "line": {
              "color": "white"
             }
            },
            "type": "table"
           }
          ]
         },
         "layout": {
          "annotationdefaults": {
           "arrowcolor": "#2a3f5f",
           "arrowhead": 0,
           "arrowwidth": 1
          },
          "autotypenumbers": "strict",
          "coloraxis": {
           "colorbar": {
            "outlinewidth": 0,
            "ticks": ""
           }
          },
          "colorscale": {
           "diverging": [
            [
             0,
             "#8e0152"
            ],
            [
             0.1,
             "#c51b7d"
            ],
            [
             0.2,
             "#de77ae"
            ],
            [
             0.3,
             "#f1b6da"
            ],
            [
             0.4,
             "#fde0ef"
            ],
            [
             0.5,
             "#f7f7f7"
            ],
            [
             0.6,
             "#e6f5d0"
            ],
            [
             0.7,
             "#b8e186"
            ],
            [
             0.8,
             "#7fbc41"
            ],
            [
             0.9,
             "#4d9221"
            ],
            [
             1,
             "#276419"
            ]
           ],
           "sequential": [
            [
             0,
             "#0d0887"
            ],
            [
             0.1111111111111111,
             "#46039f"
            ],
            [
             0.2222222222222222,
             "#7201a8"
            ],
            [
             0.3333333333333333,
             "#9c179e"
            ],
            [
             0.4444444444444444,
             "#bd3786"
            ],
            [
             0.5555555555555556,
             "#d8576b"
            ],
            [
             0.6666666666666666,
             "#ed7953"
            ],
            [
             0.7777777777777778,
             "#fb9f3a"
            ],
            [
             0.8888888888888888,
             "#fdca26"
            ],
            [
             1,
             "#f0f921"
            ]
           ],
           "sequentialminus": [
            [
             0,
             "#0d0887"
            ],
            [
             0.1111111111111111,
             "#46039f"
            ],
            [
             0.2222222222222222,
             "#7201a8"
            ],
            [
             0.3333333333333333,
             "#9c179e"
            ],
            [
             0.4444444444444444,
             "#bd3786"
            ],
            [
             0.5555555555555556,
             "#d8576b"
            ],
            [
             0.6666666666666666,
             "#ed7953"
            ],
            [
             0.7777777777777778,
             "#fb9f3a"
            ],
            [
             0.8888888888888888,
             "#fdca26"
            ],
            [
             1,
             "#f0f921"
            ]
           ]
          },
          "colorway": [
           "#636efa",
           "#EF553B",
           "#00cc96",
           "#ab63fa",
           "#FFA15A",
           "#19d3f3",
           "#FF6692",
           "#B6E880",
           "#FF97FF",
           "#FECB52"
          ],
          "font": {
           "color": "#2a3f5f"
          },
          "geo": {
           "bgcolor": "white",
           "lakecolor": "white",
           "landcolor": "#E5ECF6",
           "showlakes": true,
           "showland": true,
           "subunitcolor": "white"
          },
          "hoverlabel": {
           "align": "left"
          },
          "hovermode": "closest",
          "mapbox": {
           "style": "light"
          },
          "paper_bgcolor": "white",
          "plot_bgcolor": "#E5ECF6",
          "polar": {
           "angularaxis": {
            "gridcolor": "white",
            "linecolor": "white",
            "ticks": ""
           },
           "bgcolor": "#E5ECF6",
           "radialaxis": {
            "gridcolor": "white",
            "linecolor": "white",
            "ticks": ""
           }
          },
          "scene": {
           "xaxis": {
            "backgroundcolor": "#E5ECF6",
            "gridcolor": "white",
            "gridwidth": 2,
            "linecolor": "white",
            "showbackground": true,
            "ticks": "",
            "zerolinecolor": "white"
           },
           "yaxis": {
            "backgroundcolor": "#E5ECF6",
            "gridcolor": "white",
            "gridwidth": 2,
            "linecolor": "white",
            "showbackground": true,
            "ticks": "",
            "zerolinecolor": "white"
           },
           "zaxis": {
            "backgroundcolor": "#E5ECF6",
            "gridcolor": "white",
            "gridwidth": 2,
            "linecolor": "white",
            "showbackground": true,
            "ticks": "",
            "zerolinecolor": "white"
           }
          },
          "shapedefaults": {
           "line": {
            "color": "#2a3f5f"
           }
          },
          "ternary": {
           "aaxis": {
            "gridcolor": "white",
            "linecolor": "white",
            "ticks": ""
           },
           "baxis": {
            "gridcolor": "white",
            "linecolor": "white",
            "ticks": ""
           },
           "bgcolor": "#E5ECF6",
           "caxis": {
            "gridcolor": "white",
            "linecolor": "white",
            "ticks": ""
           }
          },
          "title": {
           "x": 0.05
          },
          "xaxis": {
           "automargin": true,
           "gridcolor": "white",
           "linecolor": "white",
           "ticks": "",
           "title": {
            "standoff": 15
           },
           "zerolinecolor": "white",
           "zerolinewidth": 2
          },
          "yaxis": {
           "automargin": true,
           "gridcolor": "white",
           "linecolor": "white",
           "ticks": "",
           "title": {
            "standoff": 15
           },
           "zerolinecolor": "white",
           "zerolinewidth": 2
          }
         }
        },
        "title": {
         "text": "All Goalscorers"
        },
        "xaxis": {
         "title": {
          "text": "Name"
         }
        },
        "yaxis": {
         "title": {
          "text": "Goals"
         }
        }
       }
      },
      "text/html": [
       "<div>                            <div id=\"3495fae3-7849-4443-8c3b-d0e6dd449f43\" class=\"plotly-graph-div\" style=\"height:525px; width:100%;\"></div>            <script type=\"text/javascript\">                require([\"plotly\"], function(Plotly) {                    window.PLOTLYENV=window.PLOTLYENV || {};                                    if (document.getElementById(\"3495fae3-7849-4443-8c3b-d0e6dd449f43\")) {                    Plotly.newPlot(                        \"3495fae3-7849-4443-8c3b-d0e6dd449f43\",                        [{\"branchvalues\":\"total\",\"domain\":{\"x\":[0.0,1.0],\"y\":[0.0,1.0]},\"hovertemplate\":\"labels=%{label}<br>goals=%{value}<br>parent=%{parent}<br>id=%{id}<extra></extra>\",\"ids\":[\"Salzburg/Forward/Adamu\",\"Salzburg/Forward/Adeyemi\",\"Man. City/Defender/Ak\\u00e9\",\"Real Madrid/Defender/Alaba\",\"Villarreal/Forward/Alc\\u00e1cer\",\"Juventus/Defender/Alex Sandro\",\"Man. United/Defender/Alex Telles\",\"Inter/Forward/Alexis S\\u00e1nchez\",\"Leipzig/Forward/Andr\\u00e9 Silva\",\"Ajax/Forward/Antony\",\"Real Madrid/Forward/Asensio\",\"Zenit/Forward/Azmoun\",\"Chelsea/Defender/Azpilicueta\",\"Wolfsburg/Midfielder/Baku\",\"Dortmund/Midfielder/Bellingham\",\"Real Madrid/Forward/Benzema\",\"Ajax/Forward/Berghuis\",\"Man. City/Midfielder/Bernardo Silva\",\"Ajax/Defender/Blind\",\"Milan/Midfielder/Brahim D\\u00edaz\",\"Inter/Midfielder/Brozovi\\u0107\",\"Sporting CP/Midfielder/Bruno Tabata\",\"LOSC/Forward/Burak Y\\u0131lmaz\",\"Villarreal/Midfielder/Capoue\",\"Chelsea/Defender/Chalobah\",\"Juventus/Forward/Chiesa\",\"Bayern/Midfielder/Choupo-Moting\",\"Chelsea/Defender/Christensen\",\"Villarreal/Midfielder/Chukwueze\",\"Zenit/Midfielder/Claudinho\",\"Sporting CP/Defender/Coates\",\"Bayern/Forward/Coman\",\"Villarreal/Midfielder/Coquelin\",\"Atl\\u00e9tico/Forward/Correa\",\"Villarreal/Midfielder/Danjuma\",\"LOSC/Forward/David\",\"Man. City/Midfielder/De Bruyne\",\"Atl\\u00e9tico/Midfielder/De Paul\",\"Inter/Defender/De Vrij\",\"Atalanta/Defender/Demiral\",\"Villarreal/Forward/Dia\",\"Liverpool/Forward/Diogo Jota\",\"Juventus/Forward/Dybala\",\"Inter/Forward/D\\u017eeko\",\"Man. United/Forward/Elanga\",\"Young Boys/Forward/Elia\",\"Liverpool/Midfielder/Fabinho\",\"Barcelona/Forward/Fati\",\"Shakhtar Donetsk/Midfielder/Fernando\",\"Liverpool/Midfielder/Firmino\",\"Man. City/Midfielder/Foden\",\"Leipzig/Forward/Forsberg\",\"Atalanta/Midfielder/Freuler\",\"Dynamo Kyiv/Midfielder/Garmash\",\"Villarreal/Forward/Gerard Moreno\",\"Be\\u015fikta\\u015f/Midfielder/Ghezzal\",\"Benfica/Defender/Gilberto\",\"Bayern/Forward/Gnabry\",\"LOSC/Midfielder/Gomes\",\"Benfica/Forward/Gon\\u00e7alo Ramos\",\"Atalanta/Midfielder/Gosens\",\"Man. City/Midfielder/Grealish\",\"Man. United/Forward/Greenwood\",\"Atl\\u00e9tico/Forward/Griezmann\",\"Paris/Midfielder/Gueye\",\"Dortmund/Forward/Haaland\",\"Ajax/Forward/Haller\",\"Chelsea/Midfielder/Havertz\",\"Young Boys/Defender/Hefti\",\"Liverpool/Midfielder/Henderson\",\"Paris/Midfielder/Herrera\",\"Chelsea/Midfielder/Hudson-Odoi\",\"LOSC/Midfielder/Ikon\\u00e9\",\"Atalanta/Midfielder/Ili\\u010di\\u0107\",\"Chelsea/Defender/James\",\"Man. City/Forward/Jesus\",\"Sevilla/Midfielder/Jord\\u00e1n\",\"Chelsea/Midfielder/Jorginho\",\"Man. City/Defender/Jo\\u00e3o Cancelo\",\"Atl\\u00e9tico/Forward/Jo\\u00e3o F\\u00e9lix\",\"Juventus/Forward/Kean\",\"Liverpool/Midfielder/Ke\\u00efta\",\"Salzburg/Midfielder/Kj\\u00e6rgaard\",\"Ajax/Midfielder/Klaassen\",\"Liverpool/Defender/Konat\\u00e9\",\"Real Madrid/Midfielder/Kroos\",\"Juventus/Midfielder/Kulusevski\",\"Zenit/Midfielder/Kuzyaev\",\"Wolfsburg/Forward/L. Nmecha\",\"Be\\u015fikta\\u015f/Forward/Larin\",\"Bayern/Forward/Lewandowski\",\"Liverpool/Forward/Luis D\\u00edaz\",\"Atl\\u00e9tico/Forward/Luis Su\\u00e1rez\",\"Chelsea/Forward/Lukaku\",\"Man. United/Defender/Maguire\",\"Man. City/Midfielder/Mahrez\",\"Dortmund/Forward/Malen\",\"Atalanta/Midfielder/Malinovskyi\",\"Liverpool/Midfielder/Man\\u00e9\",\"Inter/Forward/Mart\\u00ednez\",\"Paris/Forward/Mbapp\\u00e9\",\"Paris/Forward/Messi\",\"Milan/Forward/Messias Junior\",\"Be\\u015fikta\\u015f/Defender/Montero\",\"Juventus/Forward/Morata\",\"Benfica/Defender/Morato\",\"Villarreal/Defender/Moreno\",\"Young Boys/Midfielder/Moumi Ngamaleu\",\"Chelsea/Midfielder/Mount\",\"Leipzig/Defender/Mukiele\",\"Atalanta/Forward/Muriel\",\"Bayern/Midfielder/Musiala\",\"Bayern/Forward/M\\u00fcller\",\"Ajax/Forward/Neres\",\"Sheriff/Midfielder/Nikolov\",\"Leipzig/Midfielder/Nkunku\",\"Sporting CP/Forward/Nuno Santos\",\"Benfica/Forward/N\\u00fa\\u00f1ez\",\"Sevilla/Midfielder/Ocampos\",\"Salzburg/Midfielder/Okafor\",\"Liverpool/Forward/Origi\",\"Zenit/Midfielder/Ozdoev\",\"Man. City/Midfielder/Palmer\",\"Atalanta/Defender/Palomino\",\"Villarreal/Midfielder/Parejo\",\"Villarreal/Defender/Pau Torres\",\"Sporting CP/Forward/Paulinho\",\"Atalanta/Midfielder/Pa\\u0161ali\\u0107\",\"Sporting CP/Midfielder/Pedro Gon\\u00e7alves\",\"Sporting CP/Defender/Pedro Porro\",\"Atalanta/Midfielder/Pessina\",\"Villarreal/Forward/Pino\",\"Barcelona/Defender/Piqu\\u00e9\",\"Chelsea/Midfielder/Puli\\u0161i\\u0107\",\"Sevilla/Forward/Rafa Mir\",\"Benfica/Forward/Rafa Silva\",\"Milan/Forward/Rafael Le\\u00e3o\",\"Sevilla/Midfielder/Rakiti\\u0107\",\"Zenit/Defender/Rakitskyy\",\"Man. United/Forward/Rashford\",\"Milan/Forward/Rebi\\u0107\",\"Atl\\u00e9tico/Defender/Renan Lodi\",\"Dortmund/Midfielder/Reus\",\"Young Boys/Midfielder/Rieder\",\"Malm\\u00f6/Midfielder/Rieks\",\"Club Brugge/Midfielder/Rits\",\"Real Madrid/Forward/Rodrygo\",\"Man. United/Forward/Ronaldo\",\"Chelsea/Defender/R\\u00fcdiger\",\"Sheriff/Midfielder/S. Thill\",\"Liverpool/Forward/Salah\",\"Man. United/Midfielder/Sancho\",\"Bayern/Midfielder/San\\u00e9\",\"Sporting CP/Forward/Sarabia\",\"Young Boys/Forward/Siebatcheu\",\"Young Boys/Midfielder/Sierro\",\"Wolfsburg/Midfielder/Steffen\",\"Man. City/Forward/Sterling\",\"Zenit/Midfielder/Sutormin\",\"Salzburg/Midfielder/Su\\u010di\\u0107\",\"Leipzig/Midfielder/Szoboszlai\",\"Porto/Midfielder/S\\u00e9rgio Oliveira\",\"Ajax/Forward/Tadi\\u0107\",\"Porto/Forward/Taremi\",\"Liverpool/Midfielder/Thiago Alc\\u00e1ntara\",\"Milan/Defender/Tomori\",\"Sheriff/Midfielder/Traore\",\"Villarreal/Midfielder/Trigueros\",\"Club Brugge/Midfielder/Vanaken\",\"Inter/Midfielder/Vidal\",\"Real Madrid/Forward/Vin\\u00edcius J\\u00fanior\",\"Juventus/Forward/Vlahovi\\u0107\",\"Man. City/Defender/Walker\",\"Zenit/Midfielder/Wendel\",\"Chelsea/Forward/Werner\",\"Paris/Midfielder/Wijnaldum\",\"Salzburg/Defender/W\\u00f6ber\",\"Sheriff/Forward/Yakhshiboev\",\"Sheriff/Forward/Yansan\\u00e9\",\"Benfica/Forward/Yaremchuk\",\"Atalanta/Forward/Zapata\",\"Chelsea/Midfielder/Ziyech\",\"Inter/Defender/\\u0160kriniar\",\"Ajax/Defender\",\"Atalanta/Defender\",\"Atl\\u00e9tico/Defender\",\"Barcelona/Defender\",\"Benfica/Defender\",\"Be\\u015fikta\\u015f/Defender\",\"Chelsea/Defender\",\"Inter/Defender\",\"Juventus/Defender\",\"Leipzig/Defender\",\"Liverpool/Defender\",\"Man. City/Defender\",\"Man. United/Defender\",\"Milan/Defender\",\"Real Madrid/Defender\",\"Salzburg/Defender\",\"Sporting CP/Defender\",\"Villarreal/Defender\",\"Young Boys/Defender\",\"Zenit/Defender\",\"Ajax/Forward\",\"Atalanta/Forward\",\"Atl\\u00e9tico/Forward\",\"Barcelona/Forward\",\"Bayern/Forward\",\"Benfica/Forward\",\"Be\\u015fikta\\u015f/Forward\",\"Chelsea/Forward\",\"Dortmund/Forward\",\"Inter/Forward\",\"Juventus/Forward\",\"LOSC/Forward\",\"Leipzig/Forward\",\"Liverpool/Forward\",\"Man. City/Forward\",\"Man. United/Forward\",\"Milan/Forward\",\"Paris/Forward\",\"Porto/Forward\",\"Real Madrid/Forward\",\"Salzburg/Forward\",\"Sevilla/Forward\",\"Sheriff/Forward\",\"Sporting CP/Forward\",\"Villarreal/Forward\",\"Wolfsburg/Forward\",\"Young Boys/Forward\",\"Zenit/Forward\",\"Ajax/Midfielder\",\"Atalanta/Midfielder\",\"Atl\\u00e9tico/Midfielder\",\"Bayern/Midfielder\",\"Be\\u015fikta\\u015f/Midfielder\",\"Chelsea/Midfielder\",\"Club Brugge/Midfielder\",\"Dortmund/Midfielder\",\"Dynamo Kyiv/Midfielder\",\"Inter/Midfielder\",\"Juventus/Midfielder\",\"LOSC/Midfielder\",\"Leipzig/Midfielder\",\"Liverpool/Midfielder\",\"Malm\\u00f6/Midfielder\",\"Man. City/Midfielder\",\"Man. United/Midfielder\",\"Milan/Midfielder\",\"Paris/Midfielder\",\"Porto/Midfielder\",\"Real Madrid/Midfielder\",\"Salzburg/Midfielder\",\"Sevilla/Midfielder\",\"Shakhtar Donetsk/Midfielder\",\"Sheriff/Midfielder\",\"Sporting CP/Midfielder\",\"Villarreal/Midfielder\",\"Wolfsburg/Midfielder\",\"Young Boys/Midfielder\",\"Zenit/Midfielder\",\"Ajax\",\"Atalanta\",\"Atl\\u00e9tico\",\"Barcelona\",\"Bayern\",\"Benfica\",\"Be\\u015fikta\\u015f\",\"Chelsea\",\"Club Brugge\",\"Dortmund\",\"Dynamo Kyiv\",\"Inter\",\"Juventus\",\"LOSC\",\"Leipzig\",\"Liverpool\",\"Malm\\u00f6\",\"Man. City\",\"Man. United\",\"Milan\",\"Paris\",\"Porto\",\"Real Madrid\",\"Salzburg\",\"Sevilla\",\"Shakhtar Donetsk\",\"Sheriff\",\"Sporting CP\",\"Villarreal\",\"Wolfsburg\",\"Young Boys\",\"Zenit\"],\"labels\":[\"Adamu\",\"Adeyemi\",\"Ak\\u00e9\",\"Alaba\",\"Alc\\u00e1cer\",\"Alex Sandro\",\"Alex Telles\",\"Alexis S\\u00e1nchez\",\"Andr\\u00e9 Silva\",\"Antony\",\"Asensio\",\"Azmoun\",\"Azpilicueta\",\"Baku\",\"Bellingham\",\"Benzema\",\"Berghuis\",\"Bernardo Silva\",\"Blind\",\"Brahim D\\u00edaz\",\"Brozovi\\u0107\",\"Bruno Tabata\",\"Burak Y\\u0131lmaz\",\"Capoue\",\"Chalobah\",\"Chiesa\",\"Choupo-Moting\",\"Christensen\",\"Chukwueze\",\"Claudinho\",\"Coates\",\"Coman\",\"Coquelin\",\"Correa\",\"Danjuma\",\"David\",\"De Bruyne\",\"De Paul\",\"De Vrij\",\"Demiral\",\"Dia\",\"Diogo Jota\",\"Dybala\",\"D\\u017eeko\",\"Elanga\",\"Elia\",\"Fabinho\",\"Fati\",\"Fernando\",\"Firmino\",\"Foden\",\"Forsberg\",\"Freuler\",\"Garmash\",\"Gerard Moreno\",\"Ghezzal\",\"Gilberto\",\"Gnabry\",\"Gomes\",\"Gon\\u00e7alo Ramos\",\"Gosens\",\"Grealish\",\"Greenwood\",\"Griezmann\",\"Gueye\",\"Haaland\",\"Haller\",\"Havertz\",\"Hefti\",\"Henderson\",\"Herrera\",\"Hudson-Odoi\",\"Ikon\\u00e9\",\"Ili\\u010di\\u0107\",\"James\",\"Jesus\",\"Jord\\u00e1n\",\"Jorginho\",\"Jo\\u00e3o Cancelo\",\"Jo\\u00e3o F\\u00e9lix\",\"Kean\",\"Ke\\u00efta\",\"Kj\\u00e6rgaard\",\"Klaassen\",\"Konat\\u00e9\",\"Kroos\",\"Kulusevski\",\"Kuzyaev\",\"L. Nmecha\",\"Larin\",\"Lewandowski\",\"Luis D\\u00edaz\",\"Luis Su\\u00e1rez\",\"Lukaku\",\"Maguire\",\"Mahrez\",\"Malen\",\"Malinovskyi\",\"Man\\u00e9\",\"Mart\\u00ednez\",\"Mbapp\\u00e9\",\"Messi\",\"Messias Junior\",\"Montero\",\"Morata\",\"Morato\",\"Moreno\",\"Moumi Ngamaleu\",\"Mount\",\"Mukiele\",\"Muriel\",\"Musiala\",\"M\\u00fcller\",\"Neres\",\"Nikolov\",\"Nkunku\",\"Nuno Santos\",\"N\\u00fa\\u00f1ez\",\"Ocampos\",\"Okafor\",\"Origi\",\"Ozdoev\",\"Palmer\",\"Palomino\",\"Parejo\",\"Pau Torres\",\"Paulinho\",\"Pa\\u0161ali\\u0107\",\"Pedro Gon\\u00e7alves\",\"Pedro Porro\",\"Pessina\",\"Pino\",\"Piqu\\u00e9\",\"Puli\\u0161i\\u0107\",\"Rafa Mir\",\"Rafa Silva\",\"Rafael Le\\u00e3o\",\"Rakiti\\u0107\",\"Rakitskyy\",\"Rashford\",\"Rebi\\u0107\",\"Renan Lodi\",\"Reus\",\"Rieder\",\"Rieks\",\"Rits\",\"Rodrygo\",\"Ronaldo\",\"R\\u00fcdiger\",\"S. Thill\",\"Salah\",\"Sancho\",\"San\\u00e9\",\"Sarabia\",\"Siebatcheu\",\"Sierro\",\"Steffen\",\"Sterling\",\"Sutormin\",\"Su\\u010di\\u0107\",\"Szoboszlai\",\"S\\u00e9rgio Oliveira\",\"Tadi\\u0107\",\"Taremi\",\"Thiago Alc\\u00e1ntara\",\"Tomori\",\"Traore\",\"Trigueros\",\"Vanaken\",\"Vidal\",\"Vin\\u00edcius J\\u00fanior\",\"Vlahovi\\u0107\",\"Walker\",\"Wendel\",\"Werner\",\"Wijnaldum\",\"W\\u00f6ber\",\"Yakhshiboev\",\"Yansan\\u00e9\",\"Yaremchuk\",\"Zapata\",\"Ziyech\",\"\\u0160kriniar\",\"Defender\",\"Defender\",\"Defender\",\"Defender\",\"Defender\",\"Defender\",\"Defender\",\"Defender\",\"Defender\",\"Defender\",\"Defender\",\"Defender\",\"Defender\",\"Defender\",\"Defender\",\"Defender\",\"Defender\",\"Defender\",\"Defender\",\"Defender\",\"Forward\",\"Forward\",\"Forward\",\"Forward\",\"Forward\",\"Forward\",\"Forward\",\"Forward\",\"Forward\",\"Forward\",\"Forward\",\"Forward\",\"Forward\",\"Forward\",\"Forward\",\"Forward\",\"Forward\",\"Forward\",\"Forward\",\"Forward\",\"Forward\",\"Forward\",\"Forward\",\"Forward\",\"Forward\",\"Forward\",\"Forward\",\"Forward\",\"Midfielder\",\"Midfielder\",\"Midfielder\",\"Midfielder\",\"Midfielder\",\"Midfielder\",\"Midfielder\",\"Midfielder\",\"Midfielder\",\"Midfielder\",\"Midfielder\",\"Midfielder\",\"Midfielder\",\"Midfielder\",\"Midfielder\",\"Midfielder\",\"Midfielder\",\"Midfielder\",\"Midfielder\",\"Midfielder\",\"Midfielder\",\"Midfielder\",\"Midfielder\",\"Midfielder\",\"Midfielder\",\"Midfielder\",\"Midfielder\",\"Midfielder\",\"Midfielder\",\"Midfielder\",\"Ajax\",\"Atalanta\",\"Atl\\u00e9tico\",\"Barcelona\",\"Bayern\",\"Benfica\",\"Be\\u015fikta\\u015f\",\"Chelsea\",\"Club Brugge\",\"Dortmund\",\"Dynamo Kyiv\",\"Inter\",\"Juventus\",\"LOSC\",\"Leipzig\",\"Liverpool\",\"Malm\\u00f6\",\"Man. City\",\"Man. United\",\"Milan\",\"Paris\",\"Porto\",\"Real Madrid\",\"Salzburg\",\"Sevilla\",\"Shakhtar Donetsk\",\"Sheriff\",\"Sporting CP\",\"Villarreal\",\"Wolfsburg\",\"Young Boys\",\"Zenit\"],\"name\":\"\",\"parents\":[\"Salzburg/Forward\",\"Salzburg/Forward\",\"Man. City/Defender\",\"Real Madrid/Defender\",\"Villarreal/Forward\",\"Juventus/Defender\",\"Man. United/Defender\",\"Inter/Forward\",\"Leipzig/Forward\",\"Ajax/Forward\",\"Real Madrid/Forward\",\"Zenit/Forward\",\"Chelsea/Defender\",\"Wolfsburg/Midfielder\",\"Dortmund/Midfielder\",\"Real Madrid/Forward\",\"Ajax/Forward\",\"Man. City/Midfielder\",\"Ajax/Defender\",\"Milan/Midfielder\",\"Inter/Midfielder\",\"Sporting CP/Midfielder\",\"LOSC/Forward\",\"Villarreal/Midfielder\",\"Chelsea/Defender\",\"Juventus/Forward\",\"Bayern/Midfielder\",\"Chelsea/Defender\",\"Villarreal/Midfielder\",\"Zenit/Midfielder\",\"Sporting CP/Defender\",\"Bayern/Forward\",\"Villarreal/Midfielder\",\"Atl\\u00e9tico/Forward\",\"Villarreal/Midfielder\",\"LOSC/Forward\",\"Man. City/Midfielder\",\"Atl\\u00e9tico/Midfielder\",\"Inter/Defender\",\"Atalanta/Defender\",\"Villarreal/Forward\",\"Liverpool/Forward\",\"Juventus/Forward\",\"Inter/Forward\",\"Man. United/Forward\",\"Young Boys/Forward\",\"Liverpool/Midfielder\",\"Barcelona/Forward\",\"Shakhtar Donetsk/Midfielder\",\"Liverpool/Midfielder\",\"Man. City/Midfielder\",\"Leipzig/Forward\",\"Atalanta/Midfielder\",\"Dynamo Kyiv/Midfielder\",\"Villarreal/Forward\",\"Be\\u015fikta\\u015f/Midfielder\",\"Benfica/Defender\",\"Bayern/Forward\",\"LOSC/Midfielder\",\"Benfica/Forward\",\"Atalanta/Midfielder\",\"Man. City/Midfielder\",\"Man. United/Forward\",\"Atl\\u00e9tico/Forward\",\"Paris/Midfielder\",\"Dortmund/Forward\",\"Ajax/Forward\",\"Chelsea/Midfielder\",\"Young Boys/Defender\",\"Liverpool/Midfielder\",\"Paris/Midfielder\",\"Chelsea/Midfielder\",\"LOSC/Midfielder\",\"Atalanta/Midfielder\",\"Chelsea/Defender\",\"Man. City/Forward\",\"Sevilla/Midfielder\",\"Chelsea/Midfielder\",\"Man. City/Defender\",\"Atl\\u00e9tico/Forward\",\"Juventus/Forward\",\"Liverpool/Midfielder\",\"Salzburg/Midfielder\",\"Ajax/Midfielder\",\"Liverpool/Defender\",\"Real Madrid/Midfielder\",\"Juventus/Midfielder\",\"Zenit/Midfielder\",\"Wolfsburg/Forward\",\"Be\\u015fikta\\u015f/Forward\",\"Bayern/Forward\",\"Liverpool/Forward\",\"Atl\\u00e9tico/Forward\",\"Chelsea/Forward\",\"Man. United/Defender\",\"Man. City/Midfielder\",\"Dortmund/Forward\",\"Atalanta/Midfielder\",\"Liverpool/Midfielder\",\"Inter/Forward\",\"Paris/Forward\",\"Paris/Forward\",\"Milan/Forward\",\"Be\\u015fikta\\u015f/Defender\",\"Juventus/Forward\",\"Benfica/Defender\",\"Villarreal/Defender\",\"Young Boys/Midfielder\",\"Chelsea/Midfielder\",\"Leipzig/Defender\",\"Atalanta/Forward\",\"Bayern/Midfielder\",\"Bayern/Forward\",\"Ajax/Forward\",\"Sheriff/Midfielder\",\"Leipzig/Midfielder\",\"Sporting CP/Forward\",\"Benfica/Forward\",\"Sevilla/Midfielder\",\"Salzburg/Midfielder\",\"Liverpool/Forward\",\"Zenit/Midfielder\",\"Man. City/Midfielder\",\"Atalanta/Defender\",\"Villarreal/Midfielder\",\"Villarreal/Defender\",\"Sporting CP/Forward\",\"Atalanta/Midfielder\",\"Sporting CP/Midfielder\",\"Sporting CP/Defender\",\"Atalanta/Midfielder\",\"Villarreal/Forward\",\"Barcelona/Defender\",\"Chelsea/Midfielder\",\"Sevilla/Forward\",\"Benfica/Forward\",\"Milan/Forward\",\"Sevilla/Midfielder\",\"Zenit/Defender\",\"Man. United/Forward\",\"Milan/Forward\",\"Atl\\u00e9tico/Defender\",\"Dortmund/Midfielder\",\"Young Boys/Midfielder\",\"Malm\\u00f6/Midfielder\",\"Club Brugge/Midfielder\",\"Real Madrid/Forward\",\"Man. United/Forward\",\"Chelsea/Defender\",\"Sheriff/Midfielder\",\"Liverpool/Forward\",\"Man. United/Midfielder\",\"Bayern/Midfielder\",\"Sporting CP/Forward\",\"Young Boys/Forward\",\"Young Boys/Midfielder\",\"Wolfsburg/Midfielder\",\"Man. City/Forward\",\"Zenit/Midfielder\",\"Salzburg/Midfielder\",\"Leipzig/Midfielder\",\"Porto/Midfielder\",\"Ajax/Forward\",\"Porto/Forward\",\"Liverpool/Midfielder\",\"Milan/Defender\",\"Sheriff/Midfielder\",\"Villarreal/Midfielder\",\"Club Brugge/Midfielder\",\"Inter/Midfielder\",\"Real Madrid/Forward\",\"Juventus/Forward\",\"Man. City/Defender\",\"Zenit/Midfielder\",\"Chelsea/Forward\",\"Paris/Midfielder\",\"Salzburg/Defender\",\"Sheriff/Forward\",\"Sheriff/Forward\",\"Benfica/Forward\",\"Atalanta/Forward\",\"Chelsea/Midfielder\",\"Inter/Defender\",\"Ajax\",\"Atalanta\",\"Atl\\u00e9tico\",\"Barcelona\",\"Benfica\",\"Be\\u015fikta\\u015f\",\"Chelsea\",\"Inter\",\"Juventus\",\"Leipzig\",\"Liverpool\",\"Man. City\",\"Man. United\",\"Milan\",\"Real Madrid\",\"Salzburg\",\"Sporting CP\",\"Villarreal\",\"Young Boys\",\"Zenit\",\"Ajax\",\"Atalanta\",\"Atl\\u00e9tico\",\"Barcelona\",\"Bayern\",\"Benfica\",\"Be\\u015fikta\\u015f\",\"Chelsea\",\"Dortmund\",\"Inter\",\"Juventus\",\"LOSC\",\"Leipzig\",\"Liverpool\",\"Man. City\",\"Man. United\",\"Milan\",\"Paris\",\"Porto\",\"Real Madrid\",\"Salzburg\",\"Sevilla\",\"Sheriff\",\"Sporting CP\",\"Villarreal\",\"Wolfsburg\",\"Young Boys\",\"Zenit\",\"Ajax\",\"Atalanta\",\"Atl\\u00e9tico\",\"Bayern\",\"Be\\u015fikta\\u015f\",\"Chelsea\",\"Club Brugge\",\"Dortmund\",\"Dynamo Kyiv\",\"Inter\",\"Juventus\",\"LOSC\",\"Leipzig\",\"Liverpool\",\"Malm\\u00f6\",\"Man. City\",\"Man. United\",\"Milan\",\"Paris\",\"Porto\",\"Real Madrid\",\"Salzburg\",\"Sevilla\",\"Shakhtar Donetsk\",\"Sheriff\",\"Sporting CP\",\"Villarreal\",\"Wolfsburg\",\"Young Boys\",\"Zenit\",\"\",\"\",\"\",\"\",\"\",\"\",\"\",\"\",\"\",\"\",\"\",\"\",\"\",\"\",\"\",\"\",\"\",\"\",\"\",\"\",\"\",\"\",\"\",\"\",\"\",\"\",\"\",\"\",\"\",\"\",\"\",\"\"],\"values\":[1,3,1,1,1,1,1,1,3,2,1,2,1,1,1,15,3,3,1,1,1,1,3,2,1,2,1,1,2,2,2,2,1,1,6,3,2,1,1,1,1,1,3,3,1,1,1,1,2,5,3,2,1,1,2,1,1,3,1,1,1,1,1,4,1,3,11,3,1,1,1,1,1,1,1,4,1,2,2,1,1,1,1,1,2,2,1,1,2,1,13,4,1,2,1,7,3,1,5,1,6,5,1,1,2,1,1,1,1,1,1,1,4,1,1,7,1,6,1,3,1,1,1,1,1,1,3,1,4,1,1,1,1,2,1,1,1,2,1,1,1,1,3,1,1,2,5,6,1,2,8,1,6,2,2,1,2,3,1,1,2,1,2,1,1,1,2,1,3,1,4,1,1,1,4,2,1,1,1,3,3,1,1,1,2,1,1,2,1,5,2,1,1,2,4,2,1,1,1,3,2,1,1,19,4,7,1,22,11,1,6,6,5,9,6,5,14,7,9,3,11,1,25,4,1,2,6,5,2,3,2,1,6,1,8,1,10,5,4,1,2,1,2,9,14,1,17,1,1,4,1,2,5,4,2,5,5,13,3,3,6,21,12,9,2,30,13,3,21,5,10,1,9,11,8,15,30,1,28,12,5,15,2,28,10,5,2,7,14,20,5,7,9],\"type\":\"sunburst\"}],                        {\"template\":{\"data\":{\"bar\":[{\"error_x\":{\"color\":\"#2a3f5f\"},\"error_y\":{\"color\":\"#2a3f5f\"},\"marker\":{\"line\":{\"color\":\"#E5ECF6\",\"width\":0.5},\"pattern\":{\"fillmode\":\"overlay\",\"size\":10,\"solidity\":0.2}},\"type\":\"bar\"}],\"barpolar\":[{\"marker\":{\"line\":{\"color\":\"#E5ECF6\",\"width\":0.5},\"pattern\":{\"fillmode\":\"overlay\",\"size\":10,\"solidity\":0.2}},\"type\":\"barpolar\"}],\"carpet\":[{\"aaxis\":{\"endlinecolor\":\"#2a3f5f\",\"gridcolor\":\"white\",\"linecolor\":\"white\",\"minorgridcolor\":\"white\",\"startlinecolor\":\"#2a3f5f\"},\"baxis\":{\"endlinecolor\":\"#2a3f5f\",\"gridcolor\":\"white\",\"linecolor\":\"white\",\"minorgridcolor\":\"white\",\"startlinecolor\":\"#2a3f5f\"},\"type\":\"carpet\"}],\"choropleth\":[{\"colorbar\":{\"outlinewidth\":0,\"ticks\":\"\"},\"type\":\"choropleth\"}],\"contour\":[{\"colorbar\":{\"outlinewidth\":0,\"ticks\":\"\"},\"colorscale\":[[0.0,\"#0d0887\"],[0.1111111111111111,\"#46039f\"],[0.2222222222222222,\"#7201a8\"],[0.3333333333333333,\"#9c179e\"],[0.4444444444444444,\"#bd3786\"],[0.5555555555555556,\"#d8576b\"],[0.6666666666666666,\"#ed7953\"],[0.7777777777777778,\"#fb9f3a\"],[0.8888888888888888,\"#fdca26\"],[1.0,\"#f0f921\"]],\"type\":\"contour\"}],\"contourcarpet\":[{\"colorbar\":{\"outlinewidth\":0,\"ticks\":\"\"},\"type\":\"contourcarpet\"}],\"heatmap\":[{\"colorbar\":{\"outlinewidth\":0,\"ticks\":\"\"},\"colorscale\":[[0.0,\"#0d0887\"],[0.1111111111111111,\"#46039f\"],[0.2222222222222222,\"#7201a8\"],[0.3333333333333333,\"#9c179e\"],[0.4444444444444444,\"#bd3786\"],[0.5555555555555556,\"#d8576b\"],[0.6666666666666666,\"#ed7953\"],[0.7777777777777778,\"#fb9f3a\"],[0.8888888888888888,\"#fdca26\"],[1.0,\"#f0f921\"]],\"type\":\"heatmap\"}],\"heatmapgl\":[{\"colorbar\":{\"outlinewidth\":0,\"ticks\":\"\"},\"colorscale\":[[0.0,\"#0d0887\"],[0.1111111111111111,\"#46039f\"],[0.2222222222222222,\"#7201a8\"],[0.3333333333333333,\"#9c179e\"],[0.4444444444444444,\"#bd3786\"],[0.5555555555555556,\"#d8576b\"],[0.6666666666666666,\"#ed7953\"],[0.7777777777777778,\"#fb9f3a\"],[0.8888888888888888,\"#fdca26\"],[1.0,\"#f0f921\"]],\"type\":\"heatmapgl\"}],\"histogram\":[{\"marker\":{\"pattern\":{\"fillmode\":\"overlay\",\"size\":10,\"solidity\":0.2}},\"type\":\"histogram\"}],\"histogram2d\":[{\"colorbar\":{\"outlinewidth\":0,\"ticks\":\"\"},\"colorscale\":[[0.0,\"#0d0887\"],[0.1111111111111111,\"#46039f\"],[0.2222222222222222,\"#7201a8\"],[0.3333333333333333,\"#9c179e\"],[0.4444444444444444,\"#bd3786\"],[0.5555555555555556,\"#d8576b\"],[0.6666666666666666,\"#ed7953\"],[0.7777777777777778,\"#fb9f3a\"],[0.8888888888888888,\"#fdca26\"],[1.0,\"#f0f921\"]],\"type\":\"histogram2d\"}],\"histogram2dcontour\":[{\"colorbar\":{\"outlinewidth\":0,\"ticks\":\"\"},\"colorscale\":[[0.0,\"#0d0887\"],[0.1111111111111111,\"#46039f\"],[0.2222222222222222,\"#7201a8\"],[0.3333333333333333,\"#9c179e\"],[0.4444444444444444,\"#bd3786\"],[0.5555555555555556,\"#d8576b\"],[0.6666666666666666,\"#ed7953\"],[0.7777777777777778,\"#fb9f3a\"],[0.8888888888888888,\"#fdca26\"],[1.0,\"#f0f921\"]],\"type\":\"histogram2dcontour\"}],\"mesh3d\":[{\"colorbar\":{\"outlinewidth\":0,\"ticks\":\"\"},\"type\":\"mesh3d\"}],\"parcoords\":[{\"line\":{\"colorbar\":{\"outlinewidth\":0,\"ticks\":\"\"}},\"type\":\"parcoords\"}],\"pie\":[{\"automargin\":true,\"type\":\"pie\"}],\"scatter\":[{\"marker\":{\"colorbar\":{\"outlinewidth\":0,\"ticks\":\"\"}},\"type\":\"scatter\"}],\"scatter3d\":[{\"line\":{\"colorbar\":{\"outlinewidth\":0,\"ticks\":\"\"}},\"marker\":{\"colorbar\":{\"outlinewidth\":0,\"ticks\":\"\"}},\"type\":\"scatter3d\"}],\"scattercarpet\":[{\"marker\":{\"colorbar\":{\"outlinewidth\":0,\"ticks\":\"\"}},\"type\":\"scattercarpet\"}],\"scattergeo\":[{\"marker\":{\"colorbar\":{\"outlinewidth\":0,\"ticks\":\"\"}},\"type\":\"scattergeo\"}],\"scattergl\":[{\"marker\":{\"colorbar\":{\"outlinewidth\":0,\"ticks\":\"\"}},\"type\":\"scattergl\"}],\"scattermapbox\":[{\"marker\":{\"colorbar\":{\"outlinewidth\":0,\"ticks\":\"\"}},\"type\":\"scattermapbox\"}],\"scatterpolar\":[{\"marker\":{\"colorbar\":{\"outlinewidth\":0,\"ticks\":\"\"}},\"type\":\"scatterpolar\"}],\"scatterpolargl\":[{\"marker\":{\"colorbar\":{\"outlinewidth\":0,\"ticks\":\"\"}},\"type\":\"scatterpolargl\"}],\"scatterternary\":[{\"marker\":{\"colorbar\":{\"outlinewidth\":0,\"ticks\":\"\"}},\"type\":\"scatterternary\"}],\"surface\":[{\"colorbar\":{\"outlinewidth\":0,\"ticks\":\"\"},\"colorscale\":[[0.0,\"#0d0887\"],[0.1111111111111111,\"#46039f\"],[0.2222222222222222,\"#7201a8\"],[0.3333333333333333,\"#9c179e\"],[0.4444444444444444,\"#bd3786\"],[0.5555555555555556,\"#d8576b\"],[0.6666666666666666,\"#ed7953\"],[0.7777777777777778,\"#fb9f3a\"],[0.8888888888888888,\"#fdca26\"],[1.0,\"#f0f921\"]],\"type\":\"surface\"}],\"table\":[{\"cells\":{\"fill\":{\"color\":\"#EBF0F8\"},\"line\":{\"color\":\"white\"}},\"header\":{\"fill\":{\"color\":\"#C8D4E3\"},\"line\":{\"color\":\"white\"}},\"type\":\"table\"}]},\"layout\":{\"annotationdefaults\":{\"arrowcolor\":\"#2a3f5f\",\"arrowhead\":0,\"arrowwidth\":1},\"autotypenumbers\":\"strict\",\"coloraxis\":{\"colorbar\":{\"outlinewidth\":0,\"ticks\":\"\"}},\"colorscale\":{\"diverging\":[[0,\"#8e0152\"],[0.1,\"#c51b7d\"],[0.2,\"#de77ae\"],[0.3,\"#f1b6da\"],[0.4,\"#fde0ef\"],[0.5,\"#f7f7f7\"],[0.6,\"#e6f5d0\"],[0.7,\"#b8e186\"],[0.8,\"#7fbc41\"],[0.9,\"#4d9221\"],[1,\"#276419\"]],\"sequential\":[[0.0,\"#0d0887\"],[0.1111111111111111,\"#46039f\"],[0.2222222222222222,\"#7201a8\"],[0.3333333333333333,\"#9c179e\"],[0.4444444444444444,\"#bd3786\"],[0.5555555555555556,\"#d8576b\"],[0.6666666666666666,\"#ed7953\"],[0.7777777777777778,\"#fb9f3a\"],[0.8888888888888888,\"#fdca26\"],[1.0,\"#f0f921\"]],\"sequentialminus\":[[0.0,\"#0d0887\"],[0.1111111111111111,\"#46039f\"],[0.2222222222222222,\"#7201a8\"],[0.3333333333333333,\"#9c179e\"],[0.4444444444444444,\"#bd3786\"],[0.5555555555555556,\"#d8576b\"],[0.6666666666666666,\"#ed7953\"],[0.7777777777777778,\"#fb9f3a\"],[0.8888888888888888,\"#fdca26\"],[1.0,\"#f0f921\"]]},\"colorway\":[\"#636efa\",\"#EF553B\",\"#00cc96\",\"#ab63fa\",\"#FFA15A\",\"#19d3f3\",\"#FF6692\",\"#B6E880\",\"#FF97FF\",\"#FECB52\"],\"font\":{\"color\":\"#2a3f5f\"},\"geo\":{\"bgcolor\":\"white\",\"lakecolor\":\"white\",\"landcolor\":\"#E5ECF6\",\"showlakes\":true,\"showland\":true,\"subunitcolor\":\"white\"},\"hoverlabel\":{\"align\":\"left\"},\"hovermode\":\"closest\",\"mapbox\":{\"style\":\"light\"},\"paper_bgcolor\":\"white\",\"plot_bgcolor\":\"#E5ECF6\",\"polar\":{\"angularaxis\":{\"gridcolor\":\"white\",\"linecolor\":\"white\",\"ticks\":\"\"},\"bgcolor\":\"#E5ECF6\",\"radialaxis\":{\"gridcolor\":\"white\",\"linecolor\":\"white\",\"ticks\":\"\"}},\"scene\":{\"xaxis\":{\"backgroundcolor\":\"#E5ECF6\",\"gridcolor\":\"white\",\"gridwidth\":2,\"linecolor\":\"white\",\"showbackground\":true,\"ticks\":\"\",\"zerolinecolor\":\"white\"},\"yaxis\":{\"backgroundcolor\":\"#E5ECF6\",\"gridcolor\":\"white\",\"gridwidth\":2,\"linecolor\":\"white\",\"showbackground\":true,\"ticks\":\"\",\"zerolinecolor\":\"white\"},\"zaxis\":{\"backgroundcolor\":\"#E5ECF6\",\"gridcolor\":\"white\",\"gridwidth\":2,\"linecolor\":\"white\",\"showbackground\":true,\"ticks\":\"\",\"zerolinecolor\":\"white\"}},\"shapedefaults\":{\"line\":{\"color\":\"#2a3f5f\"}},\"ternary\":{\"aaxis\":{\"gridcolor\":\"white\",\"linecolor\":\"white\",\"ticks\":\"\"},\"baxis\":{\"gridcolor\":\"white\",\"linecolor\":\"white\",\"ticks\":\"\"},\"bgcolor\":\"#E5ECF6\",\"caxis\":{\"gridcolor\":\"white\",\"linecolor\":\"white\",\"ticks\":\"\"}},\"title\":{\"x\":0.05},\"xaxis\":{\"automargin\":true,\"gridcolor\":\"white\",\"linecolor\":\"white\",\"ticks\":\"\",\"title\":{\"standoff\":15},\"zerolinecolor\":\"white\",\"zerolinewidth\":2},\"yaxis\":{\"automargin\":true,\"gridcolor\":\"white\",\"linecolor\":\"white\",\"ticks\":\"\",\"title\":{\"standoff\":15},\"zerolinecolor\":\"white\",\"zerolinewidth\":2}}},\"legend\":{\"tracegroupgap\":0},\"title\":{\"text\":\"All Goalscorers\"},\"coloraxis\":{\"showscale\":false},\"xaxis\":{\"title\":{\"text\":\"Name\"}},\"yaxis\":{\"title\":{\"text\":\"Goals\"}}},                        {\"responsive\": true}                    ).then(function(){\n",
       "                            \n",
       "var gd = document.getElementById('3495fae3-7849-4443-8c3b-d0e6dd449f43');\n",
       "var x = new MutationObserver(function (mutations, observer) {{\n",
       "        var display = window.getComputedStyle(gd).display;\n",
       "        if (!display || display === 'none') {{\n",
       "            console.log([gd, 'removed!']);\n",
       "            Plotly.purge(gd);\n",
       "            observer.disconnect();\n",
       "        }}\n",
       "}});\n",
       "\n",
       "// Listen for the removal of the full notebook cells\n",
       "var notebookContainer = gd.closest('#notebook-container');\n",
       "if (notebookContainer) {{\n",
       "    x.observe(notebookContainer, {childList: true});\n",
       "}}\n",
       "\n",
       "// Listen for the clearing of the current output cell\n",
       "var outputEl = gd.closest('.output');\n",
       "if (outputEl) {{\n",
       "    x.observe(outputEl, {childList: true});\n",
       "}}\n",
       "\n",
       "                        })                };                });            </script>        </div>"
      ]
     },
     "metadata": {},
     "output_type": "display_data"
    }
   ],
   "source": [
    "burst = px.sunburst(goals_by_club, \n",
    "                    path=['club', 'position', 'player_name'], \n",
    "                    values='goals',\n",
    "                    title='All Goalscorers',\n",
    "                   )\n",
    " \n",
    "burst.update_layout(xaxis_title='Name', \n",
    "                    yaxis_title='Goals',\n",
    "                    coloraxis_showscale=False)\n",
    " \n",
    "burst.show()"
   ]
  },
  {
   "cell_type": "code",
   "execution_count": null,
   "id": "d0a70c21",
   "metadata": {},
   "outputs": [],
   "source": []
  }
 ],
 "metadata": {
  "kernelspec": {
   "display_name": "Python 3 (ipykernel)",
   "language": "python",
   "name": "python3"
  },
  "language_info": {
   "codemirror_mode": {
    "name": "ipython",
    "version": 3
   },
   "file_extension": ".py",
   "mimetype": "text/x-python",
   "name": "python",
   "nbconvert_exporter": "python",
   "pygments_lexer": "ipython3",
   "version": "3.9.12"
  }
 },
 "nbformat": 4,
 "nbformat_minor": 5
}
